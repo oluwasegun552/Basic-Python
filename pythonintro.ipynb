{
 "cells": [
  {
   "cell_type": "markdown",
   "id": "630e38f1-6859-4aff-9dbe-1266a20e7952",
   "metadata": {},
   "source": [
    "#Welcome to python"
   ]
  },
  {
   "cell_type": "markdown",
   "id": "4e2185cb-d5d0-493e-af7a-27fa95e301f6",
   "metadata": {},
   "source": [
    "# Python Variables"
   ]
  },
  {
   "cell_type": "markdown",
   "id": "046582cb-c3e6-4995-b4f4-15ac3c1ca044",
   "metadata": {},
   "source": [
    "Python variables are containers that stop values. we do not need to declare variables before using them.a variable is created the moment we first asign a value to it. we can call a python variable memory location"
   ]
  },
  {
   "cell_type": "code",
   "execution_count": 61,
   "id": "ed1c8146-00b2-47bd-8f52-828d8de2f3f4",
   "metadata": {},
   "outputs": [
    {
     "data": {
      "text/plain": [
       "'hello world'"
      ]
     },
     "execution_count": 61,
     "metadata": {},
     "output_type": "execute_result"
    }
   ],
   "source": [
    "x=\"hello world\"\n",
    "x"
   ]
  },
  {
   "cell_type": "code",
   "execution_count": 62,
   "id": "9b9a6bcb-c4a8-44d0-b623-1a0a94ce7f60",
   "metadata": {},
   "outputs": [
    {
     "data": {
      "text/plain": [
       "'hello world'"
      ]
     },
     "execution_count": 62,
     "metadata": {},
     "output_type": "execute_result"
    }
   ],
   "source": [
    "x"
   ]
  },
  {
   "cell_type": "code",
   "execution_count": 63,
   "id": "747d95c1-4430-41c7-837a-465d60c8db34",
   "metadata": {},
   "outputs": [
    {
     "data": {
      "text/plain": [
       "1.6666666666666667"
      ]
     },
     "execution_count": 63,
     "metadata": {},
     "output_type": "execute_result"
    }
   ],
   "source": [
    "y=500\n",
    "z=300\n",
    "y/z"
   ]
  },
  {
   "cell_type": "code",
   "execution_count": 64,
   "id": "32439489-5519-4723-b06f-e49a01e38257",
   "metadata": {},
   "outputs": [
    {
     "data": {
      "text/plain": [
       "'segzzyakani'"
      ]
     },
     "execution_count": 64,
     "metadata": {},
     "output_type": "execute_result"
    }
   ],
   "source": [
    "name=\"segzzy\"\n",
    "first_name=\"akani\"\n",
    "name+first_name"
   ]
  },
  {
   "cell_type": "code",
   "execution_count": 65,
   "id": "2199ba9e-c6b8-49b8-adc4-30525d20a2b9",
   "metadata": {},
   "outputs": [
    {
     "data": {
      "text/plain": [
       "'hello world'"
      ]
     },
     "execution_count": 65,
     "metadata": {},
     "output_type": "execute_result"
    }
   ],
   "source": [
    "x"
   ]
  },
  {
   "cell_type": "markdown",
   "id": "dd740fd4-ac30-4a2b-accc-884c65f2ed8e",
   "metadata": {},
   "source": [
    "The rules of a python variable\n",
    "a python variable name must with a letter\n",
    "a python variable name cannot start with a number\n",
    "a python varible name can only contain alphanumeric characters and _\n",
    "variables in python are case sensitive \n",
    "we can not use python keywords to name variable"
   ]
  },
  {
   "cell_type": "markdown",
   "id": "3f182255-6a34-4514-8388-dc7ed7a7963b",
   "metadata": {},
   "source": [
    "python data type \n",
    "data types in python are the classification or categorization of data items, it represent the kind of values that whT operation can be performed on a particular data \n"
   ]
  },
  {
   "cell_type": "code",
   "execution_count": 66,
   "id": "a74d9a8d-55b8-49bc-aa21-bbdb3d796f12",
   "metadata": {},
   "outputs": [],
   "source": [
    "string=\"hello word\"\n",
    "num=50\n",
    "float=60.5\n",
    "list=[\"lagos\",\"ibadan\",\"enugu\",\"abuja\"]\n",
    "dict={\"name\":\"bayo\",\"age\":24}"
   ]
  },
  {
   "cell_type": "code",
   "execution_count": 67,
   "id": "7a087551-afed-493a-b7b7-404c8cefd7b0",
   "metadata": {},
   "outputs": [
    {
     "data": {
      "text/plain": [
       "['lagos', 'ibadan', 'enugu', 'abuja']"
      ]
     },
     "execution_count": 67,
     "metadata": {},
     "output_type": "execute_result"
    }
   ],
   "source": [
    "list"
   ]
  },
  {
   "cell_type": "code",
   "execution_count": 68,
   "id": "c546b529-2ffc-4d0e-a620-8cd7dcb19d3c",
   "metadata": {},
   "outputs": [
    {
     "data": {
      "text/plain": [
       "'hello word'"
      ]
     },
     "execution_count": 68,
     "metadata": {},
     "output_type": "execute_result"
    }
   ],
   "source": [
    "string"
   ]
  },
  {
   "cell_type": "code",
   "execution_count": 69,
   "id": "c722bde8-d8bd-4ac3-b6d3-bb7b8b2c3039",
   "metadata": {},
   "outputs": [
    {
     "data": {
      "text/plain": [
       "False"
      ]
     },
     "execution_count": 69,
     "metadata": {},
     "output_type": "execute_result"
    }
   ],
   "source": [
    "string==num"
   ]
  },
  {
   "cell_type": "code",
   "execution_count": 70,
   "id": "5cf7713d-61a3-4e3b-b113-1bc58b138c4e",
   "metadata": {},
   "outputs": [],
   "source": [
    "cities=[\"lagos\",\"ibadan\",\"enugu\",\"abuja\"]"
   ]
  },
  {
   "cell_type": "code",
   "execution_count": 71,
   "id": "39d153bc-a633-476f-86a1-234a888047df",
   "metadata": {},
   "outputs": [
    {
     "data": {
      "text/plain": [
       "True"
      ]
     },
     "execution_count": 71,
     "metadata": {},
     "output_type": "execute_result"
    }
   ],
   "source": [
    "cities==list"
   ]
  },
  {
   "cell_type": "code",
   "execution_count": 73,
   "id": "f82dc3fc-06f7-4867-8e5f-9a861a3c46ea",
   "metadata": {},
   "outputs": [
    {
     "name": "stdout",
     "output_type": "stream",
     "text": [
      "d\n"
     ]
    }
   ],
   "source": [
    "print(string[-1])"
   ]
  },
  {
   "cell_type": "code",
   "execution_count": 74,
   "id": "21d80fd3-04be-4293-8747-dda2fcbddfb9",
   "metadata": {},
   "outputs": [
    {
     "name": "stdout",
     "output_type": "stream",
     "text": [
      "lagos\n"
     ]
    }
   ],
   "source": [
    "print(list[0])"
   ]
  },
  {
   "cell_type": "markdown",
   "id": "7ef38282-9977-47b6-bf9e-5911250b4c5e",
   "metadata": {},
   "source": [
    "A dictionary can be created by placing a sequence of eliment within curly bracket\n",
    "{} separated by comas a dictionary holds a key:value. each key value pair in a dictionary is separated by colomn whereas each key is separated by coma, values in a dictionary can be of any data type and can be duplicated whereas keys cant be repeated and must be immutable "
   ]
  },
  {
   "cell_type": "code",
   "execution_count": 4,
   "id": "552e18e7-00a6-4bf0-b6cc-67c3ab850c70",
   "metadata": {},
   "outputs": [],
   "source": [
    "import numpy as np\n",
    "import pandas as pd\n",
    "import matplotlib.pyplot as plt"
   ]
  },
  {
   "cell_type": "code",
   "execution_count": null,
   "id": "d530ff64-f73c-44e1-bcfb-e5f9f980276e",
   "metadata": {},
   "outputs": [],
   "source": [
    "df="
   ]
  }
 ],
 "metadata": {
  "kernelspec": {
   "display_name": "Python 3 (ipykernel)",
   "language": "python",
   "name": "python3"
  },
  "language_info": {
   "codemirror_mode": {
    "name": "ipython",
    "version": 3
   },
   "file_extension": ".py",
   "mimetype": "text/x-python",
   "name": "python",
   "nbconvert_exporter": "python",
   "pygments_lexer": "ipython3",
   "version": "3.11.7"
  }
 },
 "nbformat": 4,
 "nbformat_minor": 5
}
