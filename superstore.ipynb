{
 "cells": [
  {
   "cell_type": "markdown",
   "id": "069a1df2-9523-4cf3-bd5b-f612b184b6c2",
   "metadata": {},
   "source": [
    "# INTRODUCTION TO DATA ANALYSIS"
   ]
  },
  {
   "cell_type": "markdown",
   "id": "61bda97f-f0ba-4f51-a2db-e4a12a01af0c",
   "metadata": {},
   "source": [
    "## SUPERMARKET SALES"
   ]
  },
  {
   "cell_type": "markdown",
   "id": "3f24c61f-43f9-4b9a-ba03-42fcfbc05472",
   "metadata": {},
   "source": [
    "###### This dataset is A chain type of business with multiple retail location, this dataset is given to analyse \n",
    "###### highest income by each cities\n",
    "###### gross income\n",
    "###### payment method for each sales \n",
    "###### income by each categories and others\n"
   ]
  },
  {
   "cell_type": "markdown",
   "id": "524fc5e7-084d-42c9-9da8-9105e7c4358d",
   "metadata": {},
   "source": [
    "#### The code below are some of the libaries in python, numpy maybe used to perform a wide variety of mathematical operations on array,pandas could be used for workinf with dataset,seaborn is for making statistical graphics and matplotlib is used for creating high quality visualization and graph."
   ]
  },
  {
   "cell_type": "code",
   "execution_count": 63,
   "id": "d22fa02d-195e-4901-b471-6f3a0b31191d",
   "metadata": {},
   "outputs": [],
   "source": [
    "import numpy as np\n",
    "import pandas as pd\n",
    "import matplotlib.pyplot as plt\n",
    "import seaborn as sns"
   ]
  },
  {
   "cell_type": "markdown",
   "id": "d3742c87-4873-469d-b5b2-9868c3c21fea",
   "metadata": {},
   "source": [
    "##### is used to read a CSV file named \"supermarket_sales - Sheet1.csv, or to insert dataset in python"
   ]
  },
  {
   "cell_type": "code",
   "execution_count": 44,
   "id": "ce8919f5-9bca-454a-b180-88bf1b64c291",
   "metadata": {},
   "outputs": [],
   "source": [
    "df=pd.read_csv(r\"C:\\Users\\HP ENVY\\Desktop\\supermarket_sales - Sheet1.csv\")"
   ]
  },
  {
   "cell_type": "code",
   "execution_count": 45,
   "id": "82eaafa6-f576-403a-b3b5-afe3d24df454",
   "metadata": {},
   "outputs": [
    {
     "data": {
      "text/html": [
       "<div>\n",
       "<style scoped>\n",
       "    .dataframe tbody tr th:only-of-type {\n",
       "        vertical-align: middle;\n",
       "    }\n",
       "\n",
       "    .dataframe tbody tr th {\n",
       "        vertical-align: top;\n",
       "    }\n",
       "\n",
       "    .dataframe thead th {\n",
       "        text-align: right;\n",
       "    }\n",
       "</style>\n",
       "<table border=\"1\" class=\"dataframe\">\n",
       "  <thead>\n",
       "    <tr style=\"text-align: right;\">\n",
       "      <th></th>\n",
       "      <th>Invoice ID</th>\n",
       "      <th>Branch</th>\n",
       "      <th>City</th>\n",
       "      <th>Customer type</th>\n",
       "      <th>Product line</th>\n",
       "      <th>Unit price</th>\n",
       "      <th>Quantity</th>\n",
       "      <th>Review Quantity</th>\n",
       "      <th>Check</th>\n",
       "      <th>Tax 5%</th>\n",
       "      <th>Total</th>\n",
       "      <th>Date</th>\n",
       "      <th>Time</th>\n",
       "      <th>Payment</th>\n",
       "      <th>cogs</th>\n",
       "      <th>gross margin percentage</th>\n",
       "      <th>gross income</th>\n",
       "      <th>Rating</th>\n",
       "    </tr>\n",
       "  </thead>\n",
       "  <tbody>\n",
       "    <tr>\n",
       "      <th>0</th>\n",
       "      <td>750-67-8428</td>\n",
       "      <td>R1C1</td>\n",
       "      <td>Yangon</td>\n",
       "      <td>Customer</td>\n",
       "      <td>Health and beauty</td>\n",
       "      <td>67.99</td>\n",
       "      <td>7.0</td>\n",
       "      <td>7</td>\n",
       "      <td>NaN</td>\n",
       "      <td>23.8%</td>\n",
       "      <td>$475.93</td>\n",
       "      <td>1/5/2019</td>\n",
       "      <td>1:08:00 PM</td>\n",
       "      <td>Ewallet</td>\n",
       "      <td>522.83</td>\n",
       "      <td>4.761905</td>\n",
       "      <td>26.1415</td>\n",
       "      <td>9.1</td>\n",
       "    </tr>\n",
       "    <tr>\n",
       "      <th>1</th>\n",
       "      <td>226-31-3081</td>\n",
       "      <td>C</td>\n",
       "      <td>Naypyitaw</td>\n",
       "      <td>Normal</td>\n",
       "      <td>Electronic \\naccessories</td>\n",
       "      <td>15.28</td>\n",
       "      <td>5.0</td>\n",
       "      <td>5</td>\n",
       "      <td>NaN</td>\n",
       "      <td>3.8%</td>\n",
       "      <td>$76.40</td>\n",
       "      <td>3/8/2019</td>\n",
       "      <td>10:29:00 AM</td>\n",
       "      <td>Cash</td>\n",
       "      <td>76.40</td>\n",
       "      <td>4.761905</td>\n",
       "      <td>3.8200</td>\n",
       "      <td>9.6</td>\n",
       "    </tr>\n",
       "    <tr>\n",
       "      <th>2</th>\n",
       "      <td>631-41-3108</td>\n",
       "      <td>A</td>\n",
       "      <td>Yangon</td>\n",
       "      <td>Normal</td>\n",
       "      <td>Home and lifestyle</td>\n",
       "      <td>46.33</td>\n",
       "      <td>7.0</td>\n",
       "      <td>7</td>\n",
       "      <td>NaN</td>\n",
       "      <td>16.2%</td>\n",
       "      <td>$324.31</td>\n",
       "      <td>3/3/2019</td>\n",
       "      <td>1:23:00 PM</td>\n",
       "      <td>Credit card</td>\n",
       "      <td>324.31</td>\n",
       "      <td>NaN</td>\n",
       "      <td>16.2155</td>\n",
       "      <td>7.4</td>\n",
       "    </tr>\n",
       "    <tr>\n",
       "      <th>3</th>\n",
       "      <td>123-19-1176</td>\n",
       "      <td>A</td>\n",
       "      <td>Yangon</td>\n",
       "      <td>Customer</td>\n",
       "      <td>Health and beauty</td>\n",
       "      <td>58.22</td>\n",
       "      <td>8.0</td>\n",
       "      <td>8</td>\n",
       "      <td>NaN</td>\n",
       "      <td>23.3%</td>\n",
       "      <td>$465.76</td>\n",
       "      <td>1/27/2019</td>\n",
       "      <td>8:33:00 PM</td>\n",
       "      <td>Ewallet</td>\n",
       "      <td>465.76</td>\n",
       "      <td>4.761905</td>\n",
       "      <td>23.2880</td>\n",
       "      <td>8.4</td>\n",
       "    </tr>\n",
       "    <tr>\n",
       "      <th>4</th>\n",
       "      <td>373-73-7910</td>\n",
       "      <td>A</td>\n",
       "      <td>Yangon</td>\n",
       "      <td>Normal</td>\n",
       "      <td>Sports and travel</td>\n",
       "      <td>86.31</td>\n",
       "      <td>7.0</td>\n",
       "      <td>7</td>\n",
       "      <td>NaN</td>\n",
       "      <td>30.2%</td>\n",
       "      <td>$604.17</td>\n",
       "      <td>2/8/2019</td>\n",
       "      <td>10:37:00 AM</td>\n",
       "      <td>Ewallet</td>\n",
       "      <td>604.17</td>\n",
       "      <td>4.761905</td>\n",
       "      <td>30.2085</td>\n",
       "      <td>5.3</td>\n",
       "    </tr>\n",
       "    <tr>\n",
       "      <th>...</th>\n",
       "      <td>...</td>\n",
       "      <td>...</td>\n",
       "      <td>...</td>\n",
       "      <td>...</td>\n",
       "      <td>...</td>\n",
       "      <td>...</td>\n",
       "      <td>...</td>\n",
       "      <td>...</td>\n",
       "      <td>...</td>\n",
       "      <td>...</td>\n",
       "      <td>...</td>\n",
       "      <td>...</td>\n",
       "      <td>...</td>\n",
       "      <td>...</td>\n",
       "      <td>...</td>\n",
       "      <td>...</td>\n",
       "      <td>...</td>\n",
       "      <td>...</td>\n",
       "    </tr>\n",
       "    <tr>\n",
       "      <th>997</th>\n",
       "      <td>727-02-1313</td>\n",
       "      <td>A</td>\n",
       "      <td>Yangon</td>\n",
       "      <td>Customer</td>\n",
       "      <td>Food and beverages</td>\n",
       "      <td>31.84</td>\n",
       "      <td>1.0</td>\n",
       "      <td>1</td>\n",
       "      <td>NaN</td>\n",
       "      <td>1.6%</td>\n",
       "      <td>$31.84</td>\n",
       "      <td>2/9/2019</td>\n",
       "      <td>1:22:00 PM</td>\n",
       "      <td>Cash</td>\n",
       "      <td>31.84</td>\n",
       "      <td>4.761905</td>\n",
       "      <td>1.5920</td>\n",
       "      <td>7.7</td>\n",
       "    </tr>\n",
       "    <tr>\n",
       "      <th>998</th>\n",
       "      <td>347-56-2442</td>\n",
       "      <td>A</td>\n",
       "      <td>Yangon</td>\n",
       "      <td>Normal</td>\n",
       "      <td>Home and lifestyle</td>\n",
       "      <td>65.82</td>\n",
       "      <td>1.0</td>\n",
       "      <td>1</td>\n",
       "      <td>NaN</td>\n",
       "      <td>3.3%</td>\n",
       "      <td>$65.82</td>\n",
       "      <td>2/22/2019</td>\n",
       "      <td>3:33:00 PM</td>\n",
       "      <td>Cash</td>\n",
       "      <td>65.82</td>\n",
       "      <td>4.761905</td>\n",
       "      <td>3.2910</td>\n",
       "      <td>4.1</td>\n",
       "    </tr>\n",
       "    <tr>\n",
       "      <th>999</th>\n",
       "      <td>849-09-3807</td>\n",
       "      <td>A</td>\n",
       "      <td>Yangon</td>\n",
       "      <td>Customer</td>\n",
       "      <td>Fashion accessories</td>\n",
       "      <td>88.34</td>\n",
       "      <td>7.0</td>\n",
       "      <td>7</td>\n",
       "      <td>NaN</td>\n",
       "      <td>30.9%</td>\n",
       "      <td>$618.38</td>\n",
       "      <td>2/18/2019</td>\n",
       "      <td>1:28:00 PM</td>\n",
       "      <td>Cash</td>\n",
       "      <td>618.38</td>\n",
       "      <td>4.761905</td>\n",
       "      <td>30.9190</td>\n",
       "      <td>6.6</td>\n",
       "    </tr>\n",
       "    <tr>\n",
       "      <th>1000</th>\n",
       "      <td>NaN</td>\n",
       "      <td>NaN</td>\n",
       "      <td>NaN</td>\n",
       "      <td>NaN</td>\n",
       "      <td>NaN</td>\n",
       "      <td>55665.43</td>\n",
       "      <td>NaN</td>\n",
       "      <td>NaN</td>\n",
       "      <td>NaN</td>\n",
       "      <td>NaN</td>\n",
       "      <td>$-</td>\n",
       "      <td>NaN</td>\n",
       "      <td>NaN</td>\n",
       "      <td>NaN</td>\n",
       "      <td>NaN</td>\n",
       "      <td>NaN</td>\n",
       "      <td>NaN</td>\n",
       "      <td>NaN</td>\n",
       "    </tr>\n",
       "    <tr>\n",
       "      <th>1001</th>\n",
       "      <td>NaN</td>\n",
       "      <td>NaN</td>\n",
       "      <td>NaN</td>\n",
       "      <td>NaN</td>\n",
       "      <td>NaN</td>\n",
       "      <td>NaN</td>\n",
       "      <td>NaN</td>\n",
       "      <td>R1C1</td>\n",
       "      <td>NaN</td>\n",
       "      <td>NaN</td>\n",
       "      <td>NaN</td>\n",
       "      <td>NaN</td>\n",
       "      <td>NaN</td>\n",
       "      <td>NaN</td>\n",
       "      <td>NaN</td>\n",
       "      <td>NaN</td>\n",
       "      <td>NaN</td>\n",
       "      <td>NaN</td>\n",
       "    </tr>\n",
       "  </tbody>\n",
       "</table>\n",
       "<p>1002 rows × 18 columns</p>\n",
       "</div>"
      ],
      "text/plain": [
       "       Invoice ID Branch       City Customer type              Product line  \\\n",
       "0     750-67-8428   R1C1     Yangon      Customer         Health and beauty   \n",
       "1     226-31-3081      C  Naypyitaw        Normal  Electronic \\naccessories   \n",
       "2     631-41-3108      A     Yangon        Normal        Home and lifestyle   \n",
       "3     123-19-1176      A     Yangon      Customer         Health and beauty   \n",
       "4     373-73-7910      A     Yangon        Normal         Sports and travel   \n",
       "...           ...    ...        ...           ...                       ...   \n",
       "997   727-02-1313      A     Yangon      Customer        Food and beverages   \n",
       "998   347-56-2442      A     Yangon        Normal        Home and lifestyle   \n",
       "999   849-09-3807      A     Yangon      Customer       Fashion accessories   \n",
       "1000          NaN    NaN        NaN           NaN                       NaN   \n",
       "1001          NaN    NaN        NaN           NaN                       NaN   \n",
       "\n",
       "      Unit price  Quantity Review Quantity  Check Tax 5%     Total   \\\n",
       "0          67.99       7.0               7    NaN  23.8%   $475.93    \n",
       "1          15.28       5.0               5    NaN   3.8%    $76.40    \n",
       "2          46.33       7.0               7    NaN  16.2%   $324.31    \n",
       "3          58.22       8.0               8    NaN  23.3%   $465.76    \n",
       "4          86.31       7.0               7    NaN  30.2%   $604.17    \n",
       "...          ...       ...             ...    ...    ...        ...   \n",
       "997        31.84       1.0               1    NaN   1.6%    $31.84    \n",
       "998        65.82       1.0               1    NaN   3.3%    $65.82    \n",
       "999        88.34       7.0               7    NaN  30.9%   $618.38    \n",
       "1000    55665.43       NaN             NaN    NaN    NaN      $-      \n",
       "1001         NaN       NaN            R1C1    NaN    NaN        NaN   \n",
       "\n",
       "           Date         Time      Payment    cogs  gross margin percentage  \\\n",
       "0      1/5/2019   1:08:00 PM      Ewallet  522.83                 4.761905   \n",
       "1      3/8/2019  10:29:00 AM         Cash   76.40                 4.761905   \n",
       "2      3/3/2019   1:23:00 PM  Credit card  324.31                      NaN   \n",
       "3     1/27/2019   8:33:00 PM      Ewallet  465.76                 4.761905   \n",
       "4      2/8/2019  10:37:00 AM      Ewallet  604.17                 4.761905   \n",
       "...         ...          ...          ...     ...                      ...   \n",
       "997    2/9/2019   1:22:00 PM         Cash   31.84                 4.761905   \n",
       "998   2/22/2019   3:33:00 PM         Cash   65.82                 4.761905   \n",
       "999   2/18/2019   1:28:00 PM         Cash  618.38                 4.761905   \n",
       "1000        NaN          NaN          NaN     NaN                      NaN   \n",
       "1001        NaN          NaN          NaN     NaN                      NaN   \n",
       "\n",
       "      gross income  Rating  \n",
       "0          26.1415     9.1  \n",
       "1           3.8200     9.6  \n",
       "2          16.2155     7.4  \n",
       "3          23.2880     8.4  \n",
       "4          30.2085     5.3  \n",
       "...            ...     ...  \n",
       "997         1.5920     7.7  \n",
       "998         3.2910     4.1  \n",
       "999        30.9190     6.6  \n",
       "1000           NaN     NaN  \n",
       "1001           NaN     NaN  \n",
       "\n",
       "[1002 rows x 18 columns]"
      ]
     },
     "execution_count": 45,
     "metadata": {},
     "output_type": "execute_result"
    }
   ],
   "source": [
    "df"
   ]
  },
  {
   "cell_type": "markdown",
   "id": "907071b2-91d8-4f5a-8900-58a1ef5f51ef",
   "metadata": {},
   "source": [
    " ##### is used to remove the column named in the supermarket sales data set"
   ]
  },
  {
   "cell_type": "markdown",
   "id": "2d567fff-4732-4b4a-a625-36536e2a24a8",
   "metadata": {},
   "source": [
    "df.drop('Check',axis=1, inplace=True)"
   ]
  },
  {
   "cell_type": "markdown",
   "id": "89bb2a07-c2c3-42d6-ad85-8dd68386d119",
   "metadata": {},
   "source": [
    "##### this is used to remove R1C1 from the dataset(because R1C1 is not needed in the datase, thats part of data cleaning)"
   ]
  },
  {
   "cell_type": "code",
   "execution_count": 47,
   "id": "6a6a0066-ba42-45a0-905f-36854f475342",
   "metadata": {},
   "outputs": [],
   "source": [
    "df = df[df['Branch'] != 'R1C1']"
   ]
  },
  {
   "cell_type": "markdown",
   "id": "5a1ba20e-67fe-499e-a78f-82fd1bf4f9a2",
   "metadata": {},
   "source": [
    "##### df is dataset or dataframe, so the code is used to display all the datas"
   ]
  },
  {
   "cell_type": "code",
   "execution_count": 48,
   "id": "d2db51ee-6f1f-4173-9b40-f36557e98dc3",
   "metadata": {},
   "outputs": [
    {
     "data": {
      "text/html": [
       "<div>\n",
       "<style scoped>\n",
       "    .dataframe tbody tr th:only-of-type {\n",
       "        vertical-align: middle;\n",
       "    }\n",
       "\n",
       "    .dataframe tbody tr th {\n",
       "        vertical-align: top;\n",
       "    }\n",
       "\n",
       "    .dataframe thead th {\n",
       "        text-align: right;\n",
       "    }\n",
       "</style>\n",
       "<table border=\"1\" class=\"dataframe\">\n",
       "  <thead>\n",
       "    <tr style=\"text-align: right;\">\n",
       "      <th></th>\n",
       "      <th>Invoice ID</th>\n",
       "      <th>Branch</th>\n",
       "      <th>City</th>\n",
       "      <th>Customer type</th>\n",
       "      <th>Product line</th>\n",
       "      <th>Unit price</th>\n",
       "      <th>Quantity</th>\n",
       "      <th>Review Quantity</th>\n",
       "      <th>Tax 5%</th>\n",
       "      <th>Total</th>\n",
       "      <th>Date</th>\n",
       "      <th>Time</th>\n",
       "      <th>Payment</th>\n",
       "      <th>cogs</th>\n",
       "      <th>gross margin percentage</th>\n",
       "      <th>gross income</th>\n",
       "      <th>Rating</th>\n",
       "    </tr>\n",
       "  </thead>\n",
       "  <tbody>\n",
       "    <tr>\n",
       "      <th>1</th>\n",
       "      <td>226-31-3081</td>\n",
       "      <td>C</td>\n",
       "      <td>Naypyitaw</td>\n",
       "      <td>Normal</td>\n",
       "      <td>Electronic \\naccessories</td>\n",
       "      <td>15.28</td>\n",
       "      <td>5.0</td>\n",
       "      <td>5</td>\n",
       "      <td>3.8%</td>\n",
       "      <td>$76.40</td>\n",
       "      <td>3/8/2019</td>\n",
       "      <td>10:29:00 AM</td>\n",
       "      <td>Cash</td>\n",
       "      <td>76.40</td>\n",
       "      <td>4.761905</td>\n",
       "      <td>3.8200</td>\n",
       "      <td>9.6</td>\n",
       "    </tr>\n",
       "    <tr>\n",
       "      <th>2</th>\n",
       "      <td>631-41-3108</td>\n",
       "      <td>A</td>\n",
       "      <td>Yangon</td>\n",
       "      <td>Normal</td>\n",
       "      <td>Home and lifestyle</td>\n",
       "      <td>46.33</td>\n",
       "      <td>7.0</td>\n",
       "      <td>7</td>\n",
       "      <td>16.2%</td>\n",
       "      <td>$324.31</td>\n",
       "      <td>3/3/2019</td>\n",
       "      <td>1:23:00 PM</td>\n",
       "      <td>Credit card</td>\n",
       "      <td>324.31</td>\n",
       "      <td>NaN</td>\n",
       "      <td>16.2155</td>\n",
       "      <td>7.4</td>\n",
       "    </tr>\n",
       "    <tr>\n",
       "      <th>3</th>\n",
       "      <td>123-19-1176</td>\n",
       "      <td>A</td>\n",
       "      <td>Yangon</td>\n",
       "      <td>Customer</td>\n",
       "      <td>Health and beauty</td>\n",
       "      <td>58.22</td>\n",
       "      <td>8.0</td>\n",
       "      <td>8</td>\n",
       "      <td>23.3%</td>\n",
       "      <td>$465.76</td>\n",
       "      <td>1/27/2019</td>\n",
       "      <td>8:33:00 PM</td>\n",
       "      <td>Ewallet</td>\n",
       "      <td>465.76</td>\n",
       "      <td>4.761905</td>\n",
       "      <td>23.2880</td>\n",
       "      <td>8.4</td>\n",
       "    </tr>\n",
       "    <tr>\n",
       "      <th>4</th>\n",
       "      <td>373-73-7910</td>\n",
       "      <td>A</td>\n",
       "      <td>Yangon</td>\n",
       "      <td>Normal</td>\n",
       "      <td>Sports and travel</td>\n",
       "      <td>86.31</td>\n",
       "      <td>7.0</td>\n",
       "      <td>7</td>\n",
       "      <td>30.2%</td>\n",
       "      <td>$604.17</td>\n",
       "      <td>2/8/2019</td>\n",
       "      <td>10:37:00 AM</td>\n",
       "      <td>Ewallet</td>\n",
       "      <td>604.17</td>\n",
       "      <td>4.761905</td>\n",
       "      <td>30.2085</td>\n",
       "      <td>5.3</td>\n",
       "    </tr>\n",
       "    <tr>\n",
       "      <th>5</th>\n",
       "      <td>699-14-3026</td>\n",
       "      <td>C</td>\n",
       "      <td>Naypyitaw</td>\n",
       "      <td>Normal</td>\n",
       "      <td>Electronic accessories</td>\n",
       "      <td>85.39</td>\n",
       "      <td>7.0</td>\n",
       "      <td>7</td>\n",
       "      <td>29.9%</td>\n",
       "      <td>$597.73</td>\n",
       "      <td>3/25/2019</td>\n",
       "      <td>6:30:00 PM</td>\n",
       "      <td>Ewallet</td>\n",
       "      <td>597.73</td>\n",
       "      <td>4.761905</td>\n",
       "      <td>29.8865</td>\n",
       "      <td>4.1</td>\n",
       "    </tr>\n",
       "    <tr>\n",
       "      <th>...</th>\n",
       "      <td>...</td>\n",
       "      <td>...</td>\n",
       "      <td>...</td>\n",
       "      <td>...</td>\n",
       "      <td>...</td>\n",
       "      <td>...</td>\n",
       "      <td>...</td>\n",
       "      <td>...</td>\n",
       "      <td>...</td>\n",
       "      <td>...</td>\n",
       "      <td>...</td>\n",
       "      <td>...</td>\n",
       "      <td>...</td>\n",
       "      <td>...</td>\n",
       "      <td>...</td>\n",
       "      <td>...</td>\n",
       "      <td>...</td>\n",
       "    </tr>\n",
       "    <tr>\n",
       "      <th>997</th>\n",
       "      <td>727-02-1313</td>\n",
       "      <td>A</td>\n",
       "      <td>Yangon</td>\n",
       "      <td>Customer</td>\n",
       "      <td>Food and beverages</td>\n",
       "      <td>31.84</td>\n",
       "      <td>1.0</td>\n",
       "      <td>1</td>\n",
       "      <td>1.6%</td>\n",
       "      <td>$31.84</td>\n",
       "      <td>2/9/2019</td>\n",
       "      <td>1:22:00 PM</td>\n",
       "      <td>Cash</td>\n",
       "      <td>31.84</td>\n",
       "      <td>4.761905</td>\n",
       "      <td>1.5920</td>\n",
       "      <td>7.7</td>\n",
       "    </tr>\n",
       "    <tr>\n",
       "      <th>998</th>\n",
       "      <td>347-56-2442</td>\n",
       "      <td>A</td>\n",
       "      <td>Yangon</td>\n",
       "      <td>Normal</td>\n",
       "      <td>Home and lifestyle</td>\n",
       "      <td>65.82</td>\n",
       "      <td>1.0</td>\n",
       "      <td>1</td>\n",
       "      <td>3.3%</td>\n",
       "      <td>$65.82</td>\n",
       "      <td>2/22/2019</td>\n",
       "      <td>3:33:00 PM</td>\n",
       "      <td>Cash</td>\n",
       "      <td>65.82</td>\n",
       "      <td>4.761905</td>\n",
       "      <td>3.2910</td>\n",
       "      <td>4.1</td>\n",
       "    </tr>\n",
       "    <tr>\n",
       "      <th>999</th>\n",
       "      <td>849-09-3807</td>\n",
       "      <td>A</td>\n",
       "      <td>Yangon</td>\n",
       "      <td>Customer</td>\n",
       "      <td>Fashion accessories</td>\n",
       "      <td>88.34</td>\n",
       "      <td>7.0</td>\n",
       "      <td>7</td>\n",
       "      <td>30.9%</td>\n",
       "      <td>$618.38</td>\n",
       "      <td>2/18/2019</td>\n",
       "      <td>1:28:00 PM</td>\n",
       "      <td>Cash</td>\n",
       "      <td>618.38</td>\n",
       "      <td>4.761905</td>\n",
       "      <td>30.9190</td>\n",
       "      <td>6.6</td>\n",
       "    </tr>\n",
       "    <tr>\n",
       "      <th>1000</th>\n",
       "      <td>NaN</td>\n",
       "      <td>NaN</td>\n",
       "      <td>NaN</td>\n",
       "      <td>NaN</td>\n",
       "      <td>NaN</td>\n",
       "      <td>55665.43</td>\n",
       "      <td>NaN</td>\n",
       "      <td>NaN</td>\n",
       "      <td>NaN</td>\n",
       "      <td>$-</td>\n",
       "      <td>NaN</td>\n",
       "      <td>NaN</td>\n",
       "      <td>NaN</td>\n",
       "      <td>NaN</td>\n",
       "      <td>NaN</td>\n",
       "      <td>NaN</td>\n",
       "      <td>NaN</td>\n",
       "    </tr>\n",
       "    <tr>\n",
       "      <th>1001</th>\n",
       "      <td>NaN</td>\n",
       "      <td>NaN</td>\n",
       "      <td>NaN</td>\n",
       "      <td>NaN</td>\n",
       "      <td>NaN</td>\n",
       "      <td>NaN</td>\n",
       "      <td>NaN</td>\n",
       "      <td>R1C1</td>\n",
       "      <td>NaN</td>\n",
       "      <td>NaN</td>\n",
       "      <td>NaN</td>\n",
       "      <td>NaN</td>\n",
       "      <td>NaN</td>\n",
       "      <td>NaN</td>\n",
       "      <td>NaN</td>\n",
       "      <td>NaN</td>\n",
       "      <td>NaN</td>\n",
       "    </tr>\n",
       "  </tbody>\n",
       "</table>\n",
       "<p>1001 rows × 17 columns</p>\n",
       "</div>"
      ],
      "text/plain": [
       "       Invoice ID Branch       City Customer type              Product line  \\\n",
       "1     226-31-3081      C  Naypyitaw        Normal  Electronic \\naccessories   \n",
       "2     631-41-3108      A     Yangon        Normal        Home and lifestyle   \n",
       "3     123-19-1176      A     Yangon      Customer         Health and beauty   \n",
       "4     373-73-7910      A     Yangon        Normal         Sports and travel   \n",
       "5     699-14-3026      C  Naypyitaw        Normal    Electronic accessories   \n",
       "...           ...    ...        ...           ...                       ...   \n",
       "997   727-02-1313      A     Yangon      Customer        Food and beverages   \n",
       "998   347-56-2442      A     Yangon        Normal        Home and lifestyle   \n",
       "999   849-09-3807      A     Yangon      Customer       Fashion accessories   \n",
       "1000          NaN    NaN        NaN           NaN                       NaN   \n",
       "1001          NaN    NaN        NaN           NaN                       NaN   \n",
       "\n",
       "      Unit price  Quantity Review Quantity Tax 5%     Total        Date  \\\n",
       "1          15.28       5.0               5   3.8%    $76.40    3/8/2019   \n",
       "2          46.33       7.0               7  16.2%   $324.31    3/3/2019   \n",
       "3          58.22       8.0               8  23.3%   $465.76   1/27/2019   \n",
       "4          86.31       7.0               7  30.2%   $604.17    2/8/2019   \n",
       "5          85.39       7.0               7  29.9%   $597.73   3/25/2019   \n",
       "...          ...       ...             ...    ...        ...        ...   \n",
       "997        31.84       1.0               1   1.6%    $31.84    2/9/2019   \n",
       "998        65.82       1.0               1   3.3%    $65.82   2/22/2019   \n",
       "999        88.34       7.0               7  30.9%   $618.38   2/18/2019   \n",
       "1000    55665.43       NaN             NaN    NaN      $-           NaN   \n",
       "1001         NaN       NaN            R1C1    NaN        NaN        NaN   \n",
       "\n",
       "             Time      Payment    cogs  gross margin percentage  gross income  \\\n",
       "1     10:29:00 AM         Cash   76.40                 4.761905        3.8200   \n",
       "2      1:23:00 PM  Credit card  324.31                      NaN       16.2155   \n",
       "3      8:33:00 PM      Ewallet  465.76                 4.761905       23.2880   \n",
       "4     10:37:00 AM      Ewallet  604.17                 4.761905       30.2085   \n",
       "5      6:30:00 PM      Ewallet  597.73                 4.761905       29.8865   \n",
       "...           ...          ...     ...                      ...           ...   \n",
       "997    1:22:00 PM         Cash   31.84                 4.761905        1.5920   \n",
       "998    3:33:00 PM         Cash   65.82                 4.761905        3.2910   \n",
       "999    1:28:00 PM         Cash  618.38                 4.761905       30.9190   \n",
       "1000          NaN          NaN     NaN                      NaN           NaN   \n",
       "1001          NaN          NaN     NaN                      NaN           NaN   \n",
       "\n",
       "      Rating  \n",
       "1        9.6  \n",
       "2        7.4  \n",
       "3        8.4  \n",
       "4        5.3  \n",
       "5        4.1  \n",
       "...      ...  \n",
       "997      7.7  \n",
       "998      4.1  \n",
       "999      6.6  \n",
       "1000     NaN  \n",
       "1001     NaN  \n",
       "\n",
       "[1001 rows x 17 columns]"
      ]
     },
     "execution_count": 48,
     "metadata": {},
     "output_type": "execute_result"
    }
   ],
   "source": [
    "df"
   ]
  },
  {
   "cell_type": "markdown",
   "id": "edadd5cb-6ca4-462f-b811-28c991edf0c0",
   "metadata": {},
   "source": [
    "##### this used to remove rows from data frame"
   ]
  },
  {
   "cell_type": "code",
   "execution_count": 49,
   "id": "a5bf43ce-b1be-4420-8842-1e8d758aaf50",
   "metadata": {},
   "outputs": [],
   "source": [
    "df=df.dropna()"
   ]
  },
  {
   "cell_type": "code",
   "execution_count": 50,
   "id": "33c83e07-645f-40d6-aefa-7bd6ff9acc03",
   "metadata": {},
   "outputs": [
    {
     "data": {
      "text/html": [
       "<div>\n",
       "<style scoped>\n",
       "    .dataframe tbody tr th:only-of-type {\n",
       "        vertical-align: middle;\n",
       "    }\n",
       "\n",
       "    .dataframe tbody tr th {\n",
       "        vertical-align: top;\n",
       "    }\n",
       "\n",
       "    .dataframe thead th {\n",
       "        text-align: right;\n",
       "    }\n",
       "</style>\n",
       "<table border=\"1\" class=\"dataframe\">\n",
       "  <thead>\n",
       "    <tr style=\"text-align: right;\">\n",
       "      <th></th>\n",
       "      <th>Invoice ID</th>\n",
       "      <th>Branch</th>\n",
       "      <th>City</th>\n",
       "      <th>Customer type</th>\n",
       "      <th>Product line</th>\n",
       "      <th>Unit price</th>\n",
       "      <th>Quantity</th>\n",
       "      <th>Review Quantity</th>\n",
       "      <th>Tax 5%</th>\n",
       "      <th>Total</th>\n",
       "      <th>Date</th>\n",
       "      <th>Time</th>\n",
       "      <th>Payment</th>\n",
       "      <th>cogs</th>\n",
       "      <th>gross margin percentage</th>\n",
       "      <th>gross income</th>\n",
       "      <th>Rating</th>\n",
       "    </tr>\n",
       "  </thead>\n",
       "  <tbody>\n",
       "    <tr>\n",
       "      <th>1</th>\n",
       "      <td>226-31-3081</td>\n",
       "      <td>C</td>\n",
       "      <td>Naypyitaw</td>\n",
       "      <td>Normal</td>\n",
       "      <td>Electronic \\naccessories</td>\n",
       "      <td>15.28</td>\n",
       "      <td>5.0</td>\n",
       "      <td>5</td>\n",
       "      <td>3.8%</td>\n",
       "      <td>$76.40</td>\n",
       "      <td>3/8/2019</td>\n",
       "      <td>10:29:00 AM</td>\n",
       "      <td>Cash</td>\n",
       "      <td>76.40</td>\n",
       "      <td>4.761905</td>\n",
       "      <td>3.8200</td>\n",
       "      <td>9.6</td>\n",
       "    </tr>\n",
       "    <tr>\n",
       "      <th>3</th>\n",
       "      <td>123-19-1176</td>\n",
       "      <td>A</td>\n",
       "      <td>Yangon</td>\n",
       "      <td>Customer</td>\n",
       "      <td>Health and beauty</td>\n",
       "      <td>58.22</td>\n",
       "      <td>8.0</td>\n",
       "      <td>8</td>\n",
       "      <td>23.3%</td>\n",
       "      <td>$465.76</td>\n",
       "      <td>1/27/2019</td>\n",
       "      <td>8:33:00 PM</td>\n",
       "      <td>Ewallet</td>\n",
       "      <td>465.76</td>\n",
       "      <td>4.761905</td>\n",
       "      <td>23.2880</td>\n",
       "      <td>8.4</td>\n",
       "    </tr>\n",
       "    <tr>\n",
       "      <th>4</th>\n",
       "      <td>373-73-7910</td>\n",
       "      <td>A</td>\n",
       "      <td>Yangon</td>\n",
       "      <td>Normal</td>\n",
       "      <td>Sports and travel</td>\n",
       "      <td>86.31</td>\n",
       "      <td>7.0</td>\n",
       "      <td>7</td>\n",
       "      <td>30.2%</td>\n",
       "      <td>$604.17</td>\n",
       "      <td>2/8/2019</td>\n",
       "      <td>10:37:00 AM</td>\n",
       "      <td>Ewallet</td>\n",
       "      <td>604.17</td>\n",
       "      <td>4.761905</td>\n",
       "      <td>30.2085</td>\n",
       "      <td>5.3</td>\n",
       "    </tr>\n",
       "    <tr>\n",
       "      <th>5</th>\n",
       "      <td>699-14-3026</td>\n",
       "      <td>C</td>\n",
       "      <td>Naypyitaw</td>\n",
       "      <td>Normal</td>\n",
       "      <td>Electronic accessories</td>\n",
       "      <td>85.39</td>\n",
       "      <td>7.0</td>\n",
       "      <td>7</td>\n",
       "      <td>29.9%</td>\n",
       "      <td>$597.73</td>\n",
       "      <td>3/25/2019</td>\n",
       "      <td>6:30:00 PM</td>\n",
       "      <td>Ewallet</td>\n",
       "      <td>597.73</td>\n",
       "      <td>4.761905</td>\n",
       "      <td>29.8865</td>\n",
       "      <td>4.1</td>\n",
       "    </tr>\n",
       "    <tr>\n",
       "      <th>6</th>\n",
       "      <td>355-53-5943</td>\n",
       "      <td>A</td>\n",
       "      <td>Yangon</td>\n",
       "      <td>Customer</td>\n",
       "      <td>Electronic accessories</td>\n",
       "      <td>68.84</td>\n",
       "      <td>6.0</td>\n",
       "      <td>6</td>\n",
       "      <td>20.7%</td>\n",
       "      <td>$413.04</td>\n",
       "      <td>2/25/2019</td>\n",
       "      <td>2:36:00 PM</td>\n",
       "      <td>Ewallet</td>\n",
       "      <td>413.04</td>\n",
       "      <td>4.761905</td>\n",
       "      <td>20.6520</td>\n",
       "      <td>5.8</td>\n",
       "    </tr>\n",
       "    <tr>\n",
       "      <th>...</th>\n",
       "      <td>...</td>\n",
       "      <td>...</td>\n",
       "      <td>...</td>\n",
       "      <td>...</td>\n",
       "      <td>...</td>\n",
       "      <td>...</td>\n",
       "      <td>...</td>\n",
       "      <td>...</td>\n",
       "      <td>...</td>\n",
       "      <td>...</td>\n",
       "      <td>...</td>\n",
       "      <td>...</td>\n",
       "      <td>...</td>\n",
       "      <td>...</td>\n",
       "      <td>...</td>\n",
       "      <td>...</td>\n",
       "      <td>...</td>\n",
       "    </tr>\n",
       "    <tr>\n",
       "      <th>995</th>\n",
       "      <td>233-67-5758</td>\n",
       "      <td>C</td>\n",
       "      <td>Naypyitaw</td>\n",
       "      <td>Normal</td>\n",
       "      <td>Health and beauty</td>\n",
       "      <td>40.35</td>\n",
       "      <td>1.0</td>\n",
       "      <td>1</td>\n",
       "      <td>2.0%</td>\n",
       "      <td>$40.35</td>\n",
       "      <td>1/29/2019</td>\n",
       "      <td>1:46:00 PM</td>\n",
       "      <td>Ewallet</td>\n",
       "      <td>40.35</td>\n",
       "      <td>4.761905</td>\n",
       "      <td>2.0175</td>\n",
       "      <td>6.2</td>\n",
       "    </tr>\n",
       "    <tr>\n",
       "      <th>996</th>\n",
       "      <td>303-96-2227</td>\n",
       "      <td>B</td>\n",
       "      <td>Mandalay</td>\n",
       "      <td>Normal</td>\n",
       "      <td>Home and lifestyle</td>\n",
       "      <td>97.38</td>\n",
       "      <td>10.0</td>\n",
       "      <td>10</td>\n",
       "      <td>48.7%</td>\n",
       "      <td>$973.80</td>\n",
       "      <td>3/2/2019</td>\n",
       "      <td>5:16:00 PM</td>\n",
       "      <td>Ewallet</td>\n",
       "      <td>973.80</td>\n",
       "      <td>4.761905</td>\n",
       "      <td>48.6900</td>\n",
       "      <td>4.4</td>\n",
       "    </tr>\n",
       "    <tr>\n",
       "      <th>997</th>\n",
       "      <td>727-02-1313</td>\n",
       "      <td>A</td>\n",
       "      <td>Yangon</td>\n",
       "      <td>Customer</td>\n",
       "      <td>Food and beverages</td>\n",
       "      <td>31.84</td>\n",
       "      <td>1.0</td>\n",
       "      <td>1</td>\n",
       "      <td>1.6%</td>\n",
       "      <td>$31.84</td>\n",
       "      <td>2/9/2019</td>\n",
       "      <td>1:22:00 PM</td>\n",
       "      <td>Cash</td>\n",
       "      <td>31.84</td>\n",
       "      <td>4.761905</td>\n",
       "      <td>1.5920</td>\n",
       "      <td>7.7</td>\n",
       "    </tr>\n",
       "    <tr>\n",
       "      <th>998</th>\n",
       "      <td>347-56-2442</td>\n",
       "      <td>A</td>\n",
       "      <td>Yangon</td>\n",
       "      <td>Normal</td>\n",
       "      <td>Home and lifestyle</td>\n",
       "      <td>65.82</td>\n",
       "      <td>1.0</td>\n",
       "      <td>1</td>\n",
       "      <td>3.3%</td>\n",
       "      <td>$65.82</td>\n",
       "      <td>2/22/2019</td>\n",
       "      <td>3:33:00 PM</td>\n",
       "      <td>Cash</td>\n",
       "      <td>65.82</td>\n",
       "      <td>4.761905</td>\n",
       "      <td>3.2910</td>\n",
       "      <td>4.1</td>\n",
       "    </tr>\n",
       "    <tr>\n",
       "      <th>999</th>\n",
       "      <td>849-09-3807</td>\n",
       "      <td>A</td>\n",
       "      <td>Yangon</td>\n",
       "      <td>Customer</td>\n",
       "      <td>Fashion accessories</td>\n",
       "      <td>88.34</td>\n",
       "      <td>7.0</td>\n",
       "      <td>7</td>\n",
       "      <td>30.9%</td>\n",
       "      <td>$618.38</td>\n",
       "      <td>2/18/2019</td>\n",
       "      <td>1:28:00 PM</td>\n",
       "      <td>Cash</td>\n",
       "      <td>618.38</td>\n",
       "      <td>4.761905</td>\n",
       "      <td>30.9190</td>\n",
       "      <td>6.6</td>\n",
       "    </tr>\n",
       "  </tbody>\n",
       "</table>\n",
       "<p>997 rows × 17 columns</p>\n",
       "</div>"
      ],
      "text/plain": [
       "      Invoice ID Branch       City Customer type              Product line  \\\n",
       "1    226-31-3081      C  Naypyitaw        Normal  Electronic \\naccessories   \n",
       "3    123-19-1176      A     Yangon      Customer         Health and beauty   \n",
       "4    373-73-7910      A     Yangon        Normal         Sports and travel   \n",
       "5    699-14-3026      C  Naypyitaw        Normal    Electronic accessories   \n",
       "6    355-53-5943      A     Yangon      Customer    Electronic accessories   \n",
       "..           ...    ...        ...           ...                       ...   \n",
       "995  233-67-5758      C  Naypyitaw        Normal         Health and beauty   \n",
       "996  303-96-2227      B   Mandalay        Normal        Home and lifestyle   \n",
       "997  727-02-1313      A     Yangon      Customer        Food and beverages   \n",
       "998  347-56-2442      A     Yangon        Normal        Home and lifestyle   \n",
       "999  849-09-3807      A     Yangon      Customer       Fashion accessories   \n",
       "\n",
       "     Unit price  Quantity Review Quantity Tax 5%     Total        Date  \\\n",
       "1         15.28       5.0               5   3.8%    $76.40    3/8/2019   \n",
       "3         58.22       8.0               8  23.3%   $465.76   1/27/2019   \n",
       "4         86.31       7.0               7  30.2%   $604.17    2/8/2019   \n",
       "5         85.39       7.0               7  29.9%   $597.73   3/25/2019   \n",
       "6         68.84       6.0               6  20.7%   $413.04   2/25/2019   \n",
       "..          ...       ...             ...    ...        ...        ...   \n",
       "995       40.35       1.0               1   2.0%    $40.35   1/29/2019   \n",
       "996       97.38      10.0              10  48.7%   $973.80    3/2/2019   \n",
       "997       31.84       1.0               1   1.6%    $31.84    2/9/2019   \n",
       "998       65.82       1.0               1   3.3%    $65.82   2/22/2019   \n",
       "999       88.34       7.0               7  30.9%   $618.38   2/18/2019   \n",
       "\n",
       "            Time  Payment    cogs  gross margin percentage  gross income  \\\n",
       "1    10:29:00 AM     Cash   76.40                 4.761905        3.8200   \n",
       "3     8:33:00 PM  Ewallet  465.76                 4.761905       23.2880   \n",
       "4    10:37:00 AM  Ewallet  604.17                 4.761905       30.2085   \n",
       "5     6:30:00 PM  Ewallet  597.73                 4.761905       29.8865   \n",
       "6     2:36:00 PM  Ewallet  413.04                 4.761905       20.6520   \n",
       "..           ...      ...     ...                      ...           ...   \n",
       "995   1:46:00 PM  Ewallet   40.35                 4.761905        2.0175   \n",
       "996   5:16:00 PM  Ewallet  973.80                 4.761905       48.6900   \n",
       "997   1:22:00 PM     Cash   31.84                 4.761905        1.5920   \n",
       "998   3:33:00 PM     Cash   65.82                 4.761905        3.2910   \n",
       "999   1:28:00 PM     Cash  618.38                 4.761905       30.9190   \n",
       "\n",
       "     Rating  \n",
       "1       9.6  \n",
       "3       8.4  \n",
       "4       5.3  \n",
       "5       4.1  \n",
       "6       5.8  \n",
       "..      ...  \n",
       "995     6.2  \n",
       "996     4.4  \n",
       "997     7.7  \n",
       "998     4.1  \n",
       "999     6.6  \n",
       "\n",
       "[997 rows x 17 columns]"
      ]
     },
     "execution_count": 50,
     "metadata": {},
     "output_type": "execute_result"
    }
   ],
   "source": [
    "df"
   ]
  },
  {
   "cell_type": "markdown",
   "id": "4f531181-a70c-43cd-8a30-3db94b250364",
   "metadata": {},
   "source": [
    "##### the code is to display top5 first rows of the data"
   ]
  },
  {
   "cell_type": "code",
   "execution_count": 51,
   "id": "d2b99f06-b43b-43a5-a5fb-ea467be232c6",
   "metadata": {},
   "outputs": [
    {
     "data": {
      "text/html": [
       "<div>\n",
       "<style scoped>\n",
       "    .dataframe tbody tr th:only-of-type {\n",
       "        vertical-align: middle;\n",
       "    }\n",
       "\n",
       "    .dataframe tbody tr th {\n",
       "        vertical-align: top;\n",
       "    }\n",
       "\n",
       "    .dataframe thead th {\n",
       "        text-align: right;\n",
       "    }\n",
       "</style>\n",
       "<table border=\"1\" class=\"dataframe\">\n",
       "  <thead>\n",
       "    <tr style=\"text-align: right;\">\n",
       "      <th></th>\n",
       "      <th>Invoice ID</th>\n",
       "      <th>Branch</th>\n",
       "      <th>City</th>\n",
       "      <th>Customer type</th>\n",
       "      <th>Product line</th>\n",
       "      <th>Unit price</th>\n",
       "      <th>Quantity</th>\n",
       "      <th>Review Quantity</th>\n",
       "      <th>Tax 5%</th>\n",
       "      <th>Total</th>\n",
       "      <th>Date</th>\n",
       "      <th>Time</th>\n",
       "      <th>Payment</th>\n",
       "      <th>cogs</th>\n",
       "      <th>gross margin percentage</th>\n",
       "      <th>gross income</th>\n",
       "      <th>Rating</th>\n",
       "    </tr>\n",
       "  </thead>\n",
       "  <tbody>\n",
       "    <tr>\n",
       "      <th>1</th>\n",
       "      <td>226-31-3081</td>\n",
       "      <td>C</td>\n",
       "      <td>Naypyitaw</td>\n",
       "      <td>Normal</td>\n",
       "      <td>Electronic \\naccessories</td>\n",
       "      <td>15.28</td>\n",
       "      <td>5.0</td>\n",
       "      <td>5</td>\n",
       "      <td>3.8%</td>\n",
       "      <td>$76.40</td>\n",
       "      <td>3/8/2019</td>\n",
       "      <td>10:29:00 AM</td>\n",
       "      <td>Cash</td>\n",
       "      <td>76.40</td>\n",
       "      <td>4.761905</td>\n",
       "      <td>3.8200</td>\n",
       "      <td>9.6</td>\n",
       "    </tr>\n",
       "    <tr>\n",
       "      <th>3</th>\n",
       "      <td>123-19-1176</td>\n",
       "      <td>A</td>\n",
       "      <td>Yangon</td>\n",
       "      <td>Customer</td>\n",
       "      <td>Health and beauty</td>\n",
       "      <td>58.22</td>\n",
       "      <td>8.0</td>\n",
       "      <td>8</td>\n",
       "      <td>23.3%</td>\n",
       "      <td>$465.76</td>\n",
       "      <td>1/27/2019</td>\n",
       "      <td>8:33:00 PM</td>\n",
       "      <td>Ewallet</td>\n",
       "      <td>465.76</td>\n",
       "      <td>4.761905</td>\n",
       "      <td>23.2880</td>\n",
       "      <td>8.4</td>\n",
       "    </tr>\n",
       "    <tr>\n",
       "      <th>4</th>\n",
       "      <td>373-73-7910</td>\n",
       "      <td>A</td>\n",
       "      <td>Yangon</td>\n",
       "      <td>Normal</td>\n",
       "      <td>Sports and travel</td>\n",
       "      <td>86.31</td>\n",
       "      <td>7.0</td>\n",
       "      <td>7</td>\n",
       "      <td>30.2%</td>\n",
       "      <td>$604.17</td>\n",
       "      <td>2/8/2019</td>\n",
       "      <td>10:37:00 AM</td>\n",
       "      <td>Ewallet</td>\n",
       "      <td>604.17</td>\n",
       "      <td>4.761905</td>\n",
       "      <td>30.2085</td>\n",
       "      <td>5.3</td>\n",
       "    </tr>\n",
       "    <tr>\n",
       "      <th>5</th>\n",
       "      <td>699-14-3026</td>\n",
       "      <td>C</td>\n",
       "      <td>Naypyitaw</td>\n",
       "      <td>Normal</td>\n",
       "      <td>Electronic accessories</td>\n",
       "      <td>85.39</td>\n",
       "      <td>7.0</td>\n",
       "      <td>7</td>\n",
       "      <td>29.9%</td>\n",
       "      <td>$597.73</td>\n",
       "      <td>3/25/2019</td>\n",
       "      <td>6:30:00 PM</td>\n",
       "      <td>Ewallet</td>\n",
       "      <td>597.73</td>\n",
       "      <td>4.761905</td>\n",
       "      <td>29.8865</td>\n",
       "      <td>4.1</td>\n",
       "    </tr>\n",
       "    <tr>\n",
       "      <th>6</th>\n",
       "      <td>355-53-5943</td>\n",
       "      <td>A</td>\n",
       "      <td>Yangon</td>\n",
       "      <td>Customer</td>\n",
       "      <td>Electronic accessories</td>\n",
       "      <td>68.84</td>\n",
       "      <td>6.0</td>\n",
       "      <td>6</td>\n",
       "      <td>20.7%</td>\n",
       "      <td>$413.04</td>\n",
       "      <td>2/25/2019</td>\n",
       "      <td>2:36:00 PM</td>\n",
       "      <td>Ewallet</td>\n",
       "      <td>413.04</td>\n",
       "      <td>4.761905</td>\n",
       "      <td>20.6520</td>\n",
       "      <td>5.8</td>\n",
       "    </tr>\n",
       "  </tbody>\n",
       "</table>\n",
       "</div>"
      ],
      "text/plain": [
       "    Invoice ID Branch       City Customer type              Product line  \\\n",
       "1  226-31-3081      C  Naypyitaw        Normal  Electronic \\naccessories   \n",
       "3  123-19-1176      A     Yangon      Customer         Health and beauty   \n",
       "4  373-73-7910      A     Yangon        Normal         Sports and travel   \n",
       "5  699-14-3026      C  Naypyitaw        Normal    Electronic accessories   \n",
       "6  355-53-5943      A     Yangon      Customer    Electronic accessories   \n",
       "\n",
       "   Unit price  Quantity Review Quantity Tax 5%     Total        Date  \\\n",
       "1       15.28       5.0               5   3.8%    $76.40    3/8/2019   \n",
       "3       58.22       8.0               8  23.3%   $465.76   1/27/2019   \n",
       "4       86.31       7.0               7  30.2%   $604.17    2/8/2019   \n",
       "5       85.39       7.0               7  29.9%   $597.73   3/25/2019   \n",
       "6       68.84       6.0               6  20.7%   $413.04   2/25/2019   \n",
       "\n",
       "          Time  Payment    cogs  gross margin percentage  gross income  Rating  \n",
       "1  10:29:00 AM     Cash   76.40                 4.761905        3.8200     9.6  \n",
       "3   8:33:00 PM  Ewallet  465.76                 4.761905       23.2880     8.4  \n",
       "4  10:37:00 AM  Ewallet  604.17                 4.761905       30.2085     5.3  \n",
       "5   6:30:00 PM  Ewallet  597.73                 4.761905       29.8865     4.1  \n",
       "6   2:36:00 PM  Ewallet  413.04                 4.761905       20.6520     5.8  "
      ]
     },
     "execution_count": 51,
     "metadata": {},
     "output_type": "execute_result"
    }
   ],
   "source": [
    "df.head()"
   ]
  },
  {
   "cell_type": "markdown",
   "id": "e1d017af-76ab-4b26-b7ec-0ab1fc8f6d9f",
   "metadata": {},
   "source": [
    "##### to show last 5 rows of the dataset"
   ]
  },
  {
   "cell_type": "code",
   "execution_count": 52,
   "id": "16bbf28f-0068-4789-b060-6b2d6c50ca31",
   "metadata": {},
   "outputs": [
    {
     "data": {
      "text/html": [
       "<div>\n",
       "<style scoped>\n",
       "    .dataframe tbody tr th:only-of-type {\n",
       "        vertical-align: middle;\n",
       "    }\n",
       "\n",
       "    .dataframe tbody tr th {\n",
       "        vertical-align: top;\n",
       "    }\n",
       "\n",
       "    .dataframe thead th {\n",
       "        text-align: right;\n",
       "    }\n",
       "</style>\n",
       "<table border=\"1\" class=\"dataframe\">\n",
       "  <thead>\n",
       "    <tr style=\"text-align: right;\">\n",
       "      <th></th>\n",
       "      <th>Invoice ID</th>\n",
       "      <th>Branch</th>\n",
       "      <th>City</th>\n",
       "      <th>Customer type</th>\n",
       "      <th>Product line</th>\n",
       "      <th>Unit price</th>\n",
       "      <th>Quantity</th>\n",
       "      <th>Review Quantity</th>\n",
       "      <th>Tax 5%</th>\n",
       "      <th>Total</th>\n",
       "      <th>Date</th>\n",
       "      <th>Time</th>\n",
       "      <th>Payment</th>\n",
       "      <th>cogs</th>\n",
       "      <th>gross margin percentage</th>\n",
       "      <th>gross income</th>\n",
       "      <th>Rating</th>\n",
       "    </tr>\n",
       "  </thead>\n",
       "  <tbody>\n",
       "    <tr>\n",
       "      <th>995</th>\n",
       "      <td>233-67-5758</td>\n",
       "      <td>C</td>\n",
       "      <td>Naypyitaw</td>\n",
       "      <td>Normal</td>\n",
       "      <td>Health and beauty</td>\n",
       "      <td>40.35</td>\n",
       "      <td>1.0</td>\n",
       "      <td>1</td>\n",
       "      <td>2.0%</td>\n",
       "      <td>$40.35</td>\n",
       "      <td>1/29/2019</td>\n",
       "      <td>1:46:00 PM</td>\n",
       "      <td>Ewallet</td>\n",
       "      <td>40.35</td>\n",
       "      <td>4.761905</td>\n",
       "      <td>2.0175</td>\n",
       "      <td>6.2</td>\n",
       "    </tr>\n",
       "    <tr>\n",
       "      <th>996</th>\n",
       "      <td>303-96-2227</td>\n",
       "      <td>B</td>\n",
       "      <td>Mandalay</td>\n",
       "      <td>Normal</td>\n",
       "      <td>Home and lifestyle</td>\n",
       "      <td>97.38</td>\n",
       "      <td>10.0</td>\n",
       "      <td>10</td>\n",
       "      <td>48.7%</td>\n",
       "      <td>$973.80</td>\n",
       "      <td>3/2/2019</td>\n",
       "      <td>5:16:00 PM</td>\n",
       "      <td>Ewallet</td>\n",
       "      <td>973.80</td>\n",
       "      <td>4.761905</td>\n",
       "      <td>48.6900</td>\n",
       "      <td>4.4</td>\n",
       "    </tr>\n",
       "    <tr>\n",
       "      <th>997</th>\n",
       "      <td>727-02-1313</td>\n",
       "      <td>A</td>\n",
       "      <td>Yangon</td>\n",
       "      <td>Customer</td>\n",
       "      <td>Food and beverages</td>\n",
       "      <td>31.84</td>\n",
       "      <td>1.0</td>\n",
       "      <td>1</td>\n",
       "      <td>1.6%</td>\n",
       "      <td>$31.84</td>\n",
       "      <td>2/9/2019</td>\n",
       "      <td>1:22:00 PM</td>\n",
       "      <td>Cash</td>\n",
       "      <td>31.84</td>\n",
       "      <td>4.761905</td>\n",
       "      <td>1.5920</td>\n",
       "      <td>7.7</td>\n",
       "    </tr>\n",
       "    <tr>\n",
       "      <th>998</th>\n",
       "      <td>347-56-2442</td>\n",
       "      <td>A</td>\n",
       "      <td>Yangon</td>\n",
       "      <td>Normal</td>\n",
       "      <td>Home and lifestyle</td>\n",
       "      <td>65.82</td>\n",
       "      <td>1.0</td>\n",
       "      <td>1</td>\n",
       "      <td>3.3%</td>\n",
       "      <td>$65.82</td>\n",
       "      <td>2/22/2019</td>\n",
       "      <td>3:33:00 PM</td>\n",
       "      <td>Cash</td>\n",
       "      <td>65.82</td>\n",
       "      <td>4.761905</td>\n",
       "      <td>3.2910</td>\n",
       "      <td>4.1</td>\n",
       "    </tr>\n",
       "    <tr>\n",
       "      <th>999</th>\n",
       "      <td>849-09-3807</td>\n",
       "      <td>A</td>\n",
       "      <td>Yangon</td>\n",
       "      <td>Customer</td>\n",
       "      <td>Fashion accessories</td>\n",
       "      <td>88.34</td>\n",
       "      <td>7.0</td>\n",
       "      <td>7</td>\n",
       "      <td>30.9%</td>\n",
       "      <td>$618.38</td>\n",
       "      <td>2/18/2019</td>\n",
       "      <td>1:28:00 PM</td>\n",
       "      <td>Cash</td>\n",
       "      <td>618.38</td>\n",
       "      <td>4.761905</td>\n",
       "      <td>30.9190</td>\n",
       "      <td>6.6</td>\n",
       "    </tr>\n",
       "  </tbody>\n",
       "</table>\n",
       "</div>"
      ],
      "text/plain": [
       "      Invoice ID Branch       City Customer type         Product line  \\\n",
       "995  233-67-5758      C  Naypyitaw        Normal    Health and beauty   \n",
       "996  303-96-2227      B   Mandalay        Normal   Home and lifestyle   \n",
       "997  727-02-1313      A     Yangon      Customer   Food and beverages   \n",
       "998  347-56-2442      A     Yangon        Normal   Home and lifestyle   \n",
       "999  849-09-3807      A     Yangon      Customer  Fashion accessories   \n",
       "\n",
       "     Unit price  Quantity Review Quantity Tax 5%     Total        Date  \\\n",
       "995       40.35       1.0               1   2.0%    $40.35   1/29/2019   \n",
       "996       97.38      10.0              10  48.7%   $973.80    3/2/2019   \n",
       "997       31.84       1.0               1   1.6%    $31.84    2/9/2019   \n",
       "998       65.82       1.0               1   3.3%    $65.82   2/22/2019   \n",
       "999       88.34       7.0               7  30.9%   $618.38   2/18/2019   \n",
       "\n",
       "           Time  Payment    cogs  gross margin percentage  gross income  \\\n",
       "995  1:46:00 PM  Ewallet   40.35                 4.761905        2.0175   \n",
       "996  5:16:00 PM  Ewallet  973.80                 4.761905       48.6900   \n",
       "997  1:22:00 PM     Cash   31.84                 4.761905        1.5920   \n",
       "998  3:33:00 PM     Cash   65.82                 4.761905        3.2910   \n",
       "999  1:28:00 PM     Cash  618.38                 4.761905       30.9190   \n",
       "\n",
       "     Rating  \n",
       "995     6.2  \n",
       "996     4.4  \n",
       "997     7.7  \n",
       "998     4.1  \n",
       "999     6.6  "
      ]
     },
     "execution_count": 52,
     "metadata": {},
     "output_type": "execute_result"
    }
   ],
   "source": [
    "df.tail()"
   ]
  },
  {
   "cell_type": "markdown",
   "id": "da58aabe-0cf8-4c05-8a81-7ce35e1bb0c9",
   "metadata": {},
   "source": [
    "##### the code below is used to show 5 random rows of the data"
   ]
  },
  {
   "cell_type": "code",
   "execution_count": 53,
   "id": "25b9fce4-ea2f-4ccb-9eb2-5c2f04cd4f37",
   "metadata": {},
   "outputs": [
    {
     "data": {
      "text/html": [
       "<div>\n",
       "<style scoped>\n",
       "    .dataframe tbody tr th:only-of-type {\n",
       "        vertical-align: middle;\n",
       "    }\n",
       "\n",
       "    .dataframe tbody tr th {\n",
       "        vertical-align: top;\n",
       "    }\n",
       "\n",
       "    .dataframe thead th {\n",
       "        text-align: right;\n",
       "    }\n",
       "</style>\n",
       "<table border=\"1\" class=\"dataframe\">\n",
       "  <thead>\n",
       "    <tr style=\"text-align: right;\">\n",
       "      <th></th>\n",
       "      <th>Invoice ID</th>\n",
       "      <th>Branch</th>\n",
       "      <th>City</th>\n",
       "      <th>Customer type</th>\n",
       "      <th>Product line</th>\n",
       "      <th>Unit price</th>\n",
       "      <th>Quantity</th>\n",
       "      <th>Review Quantity</th>\n",
       "      <th>Tax 5%</th>\n",
       "      <th>Total</th>\n",
       "      <th>Date</th>\n",
       "      <th>Time</th>\n",
       "      <th>Payment</th>\n",
       "      <th>cogs</th>\n",
       "      <th>gross margin percentage</th>\n",
       "      <th>gross income</th>\n",
       "      <th>Rating</th>\n",
       "    </tr>\n",
       "  </thead>\n",
       "  <tbody>\n",
       "    <tr>\n",
       "      <th>687</th>\n",
       "      <td>648-83-1321</td>\n",
       "      <td>A</td>\n",
       "      <td>Yangon</td>\n",
       "      <td>Customer</td>\n",
       "      <td>Home and lifestyle</td>\n",
       "      <td>63.56</td>\n",
       "      <td>10.0</td>\n",
       "      <td>10</td>\n",
       "      <td>31.8%</td>\n",
       "      <td>$635.60</td>\n",
       "      <td>1/16/2019</td>\n",
       "      <td>5:59:00 PM</td>\n",
       "      <td>Cash</td>\n",
       "      <td>635.60</td>\n",
       "      <td>4.761905</td>\n",
       "      <td>31.7800</td>\n",
       "      <td>4.3</td>\n",
       "    </tr>\n",
       "    <tr>\n",
       "      <th>185</th>\n",
       "      <td>895-66-0685</td>\n",
       "      <td>B</td>\n",
       "      <td>Mandalay</td>\n",
       "      <td>Customer</td>\n",
       "      <td>Food and beverages</td>\n",
       "      <td>18.08</td>\n",
       "      <td>3.0</td>\n",
       "      <td>3</td>\n",
       "      <td>2.7%</td>\n",
       "      <td>$54.24</td>\n",
       "      <td>3/5/2019</td>\n",
       "      <td>7:46:00 PM</td>\n",
       "      <td>Ewallet</td>\n",
       "      <td>54.24</td>\n",
       "      <td>4.761905</td>\n",
       "      <td>2.7120</td>\n",
       "      <td>8.0</td>\n",
       "    </tr>\n",
       "    <tr>\n",
       "      <th>462</th>\n",
       "      <td>326-71-2155</td>\n",
       "      <td>C</td>\n",
       "      <td>Naypyitaw</td>\n",
       "      <td>Normal</td>\n",
       "      <td>Sports and travel</td>\n",
       "      <td>73.95</td>\n",
       "      <td>4.0</td>\n",
       "      <td>4</td>\n",
       "      <td>14.8%</td>\n",
       "      <td>$295.80</td>\n",
       "      <td>2/3/2019</td>\n",
       "      <td>10:02:00 AM</td>\n",
       "      <td>Cash</td>\n",
       "      <td>295.80</td>\n",
       "      <td>4.761905</td>\n",
       "      <td>14.7900</td>\n",
       "      <td>6.1</td>\n",
       "    </tr>\n",
       "    <tr>\n",
       "      <th>287</th>\n",
       "      <td>226-71-3580</td>\n",
       "      <td>C</td>\n",
       "      <td>Naypyitaw</td>\n",
       "      <td>Normal</td>\n",
       "      <td>Sports and travel</td>\n",
       "      <td>23.75</td>\n",
       "      <td>9.0</td>\n",
       "      <td>9</td>\n",
       "      <td>10.7%</td>\n",
       "      <td>$213.75</td>\n",
       "      <td>1/31/2019</td>\n",
       "      <td>12:02:00 PM</td>\n",
       "      <td>Cash</td>\n",
       "      <td>213.75</td>\n",
       "      <td>4.761905</td>\n",
       "      <td>10.6875</td>\n",
       "      <td>9.5</td>\n",
       "    </tr>\n",
       "    <tr>\n",
       "      <th>695</th>\n",
       "      <td>800-09-8606</td>\n",
       "      <td>A</td>\n",
       "      <td>Yangon</td>\n",
       "      <td>Customer</td>\n",
       "      <td>Home and lifestyle</td>\n",
       "      <td>87.37</td>\n",
       "      <td>5.0</td>\n",
       "      <td>5</td>\n",
       "      <td>21.8%</td>\n",
       "      <td>$436.85</td>\n",
       "      <td>1/29/2019</td>\n",
       "      <td>7:45:00 PM</td>\n",
       "      <td>Cash</td>\n",
       "      <td>436.85</td>\n",
       "      <td>4.761905</td>\n",
       "      <td>21.8425</td>\n",
       "      <td>6.6</td>\n",
       "    </tr>\n",
       "  </tbody>\n",
       "</table>\n",
       "</div>"
      ],
      "text/plain": [
       "      Invoice ID Branch       City Customer type        Product line  \\\n",
       "687  648-83-1321      A     Yangon      Customer  Home and lifestyle   \n",
       "185  895-66-0685      B   Mandalay      Customer  Food and beverages   \n",
       "462  326-71-2155      C  Naypyitaw        Normal   Sports and travel   \n",
       "287  226-71-3580      C  Naypyitaw        Normal   Sports and travel   \n",
       "695  800-09-8606      A     Yangon      Customer  Home and lifestyle   \n",
       "\n",
       "     Unit price  Quantity Review Quantity Tax 5%     Total        Date  \\\n",
       "687       63.56      10.0              10  31.8%   $635.60   1/16/2019   \n",
       "185       18.08       3.0               3   2.7%    $54.24    3/5/2019   \n",
       "462       73.95       4.0               4  14.8%   $295.80    2/3/2019   \n",
       "287       23.75       9.0               9  10.7%   $213.75   1/31/2019   \n",
       "695       87.37       5.0               5  21.8%   $436.85   1/29/2019   \n",
       "\n",
       "            Time  Payment    cogs  gross margin percentage  gross income  \\\n",
       "687   5:59:00 PM     Cash  635.60                 4.761905       31.7800   \n",
       "185   7:46:00 PM  Ewallet   54.24                 4.761905        2.7120   \n",
       "462  10:02:00 AM     Cash  295.80                 4.761905       14.7900   \n",
       "287  12:02:00 PM     Cash  213.75                 4.761905       10.6875   \n",
       "695   7:45:00 PM     Cash  436.85                 4.761905       21.8425   \n",
       "\n",
       "     Rating  \n",
       "687     4.3  \n",
       "185     8.0  \n",
       "462     6.1  \n",
       "287     9.5  \n",
       "695     6.6  "
      ]
     },
     "execution_count": 53,
     "metadata": {},
     "output_type": "execute_result"
    }
   ],
   "source": [
    "df.sample(5)"
   ]
  },
  {
   "cell_type": "markdown",
   "id": "785ba80d-7d9d-4853-a912-79351e7eec46",
   "metadata": {},
   "source": [
    "##### to display numner of columns and rows"
   ]
  },
  {
   "cell_type": "code",
   "execution_count": 54,
   "id": "e9130692-6829-4093-8190-ae1739747427",
   "metadata": {},
   "outputs": [
    {
     "data": {
      "text/plain": [
       "(997, 17)"
      ]
     },
     "execution_count": 54,
     "metadata": {},
     "output_type": "execute_result"
    }
   ],
   "source": [
    "df.shape"
   ]
  },
  {
   "cell_type": "code",
   "execution_count": 55,
   "id": "6f002582-1c10-48e2-9e32-8c81f62ad189",
   "metadata": {},
   "outputs": [
    {
     "name": "stdout",
     "output_type": "stream",
     "text": [
      "number of columns 997\n",
      "number of rows 17\n"
     ]
    }
   ],
   "source": [
    "print(\"number of columns\",df.shape[0])\n",
    "print(\"number of rows\",df.shape[1])"
   ]
  },
  {
   "cell_type": "markdown",
   "id": "8bf80580-1f9b-4d5b-9321-a2ee4db87ca2",
   "metadata": {},
   "source": [
    "##### is used to identify and count the number of missing (NaN) values in each column of the DataFrame"
   ]
  },
  {
   "cell_type": "code",
   "execution_count": 56,
   "id": "44b15196-141b-441b-b924-3d11a00496ee",
   "metadata": {},
   "outputs": [
    {
     "data": {
      "text/plain": [
       "Invoice ID                 0\n",
       "Branch                     0\n",
       "City                       0\n",
       "Customer type              0\n",
       "Product line               0\n",
       "Unit price                 0\n",
       "Quantity                   0\n",
       "Review Quantity            0\n",
       "Tax 5%                     0\n",
       " Total                     0\n",
       "Date                       0\n",
       "Time                       0\n",
       "Payment                    0\n",
       "cogs                       0\n",
       "gross margin percentage    0\n",
       "gross income               0\n",
       "Rating                     0\n",
       "dtype: int64"
      ]
     },
     "execution_count": 56,
     "metadata": {},
     "output_type": "execute_result"
    }
   ],
   "source": [
    "df.isnull().sum()"
   ]
  },
  {
   "cell_type": "markdown",
   "id": "2f190de5-6ae2-4cd5-9ee5-2aca4cdbdb28",
   "metadata": {},
   "source": [
    "#####  is used to get a concise summary of the DataFrame, lets use null values as example non of the column have a null value "
   ]
  },
  {
   "cell_type": "code",
   "execution_count": 57,
   "id": "9e548571-c49b-480e-8e93-60bf7fdc26f2",
   "metadata": {},
   "outputs": [
    {
     "name": "stdout",
     "output_type": "stream",
     "text": [
      "<class 'pandas.core.frame.DataFrame'>\n",
      "Index: 997 entries, 1 to 999\n",
      "Data columns (total 17 columns):\n",
      " #   Column                   Non-Null Count  Dtype  \n",
      "---  ------                   --------------  -----  \n",
      " 0   Invoice ID               997 non-null    object \n",
      " 1   Branch                   997 non-null    object \n",
      " 2   City                     997 non-null    object \n",
      " 3   Customer type            997 non-null    object \n",
      " 4   Product line             997 non-null    object \n",
      " 5   Unit price               997 non-null    float64\n",
      " 6   Quantity                 997 non-null    float64\n",
      " 7   Review Quantity          997 non-null    object \n",
      " 8   Tax 5%                   997 non-null    object \n",
      " 9    Total                   997 non-null    object \n",
      " 10  Date                     997 non-null    object \n",
      " 11  Time                     997 non-null    object \n",
      " 12  Payment                  997 non-null    object \n",
      " 13  cogs                     997 non-null    float64\n",
      " 14  gross margin percentage  997 non-null    float64\n",
      " 15  gross income             997 non-null    float64\n",
      " 16  Rating                   997 non-null    float64\n",
      "dtypes: float64(6), object(11)\n",
      "memory usage: 140.2+ KB\n"
     ]
    }
   ],
   "source": [
    "df.info()"
   ]
  },
  {
   "cell_type": "markdown",
   "id": "17f606a5-6dde-491d-b904-0b4edcf3b894",
   "metadata": {},
   "source": [
    "##### to display statistics of the dataframe"
   ]
  },
  {
   "cell_type": "code",
   "execution_count": 58,
   "id": "302fad67-90e1-4b12-bde7-7a8ad8ecc93e",
   "metadata": {},
   "outputs": [
    {
     "data": {
      "text/html": [
       "<div>\n",
       "<style scoped>\n",
       "    .dataframe tbody tr th:only-of-type {\n",
       "        vertical-align: middle;\n",
       "    }\n",
       "\n",
       "    .dataframe tbody tr th {\n",
       "        vertical-align: top;\n",
       "    }\n",
       "\n",
       "    .dataframe thead th {\n",
       "        text-align: right;\n",
       "    }\n",
       "</style>\n",
       "<table border=\"1\" class=\"dataframe\">\n",
       "  <thead>\n",
       "    <tr style=\"text-align: right;\">\n",
       "      <th></th>\n",
       "      <th>Unit price</th>\n",
       "      <th>Quantity</th>\n",
       "      <th>cogs</th>\n",
       "      <th>gross margin percentage</th>\n",
       "      <th>gross income</th>\n",
       "      <th>Rating</th>\n",
       "    </tr>\n",
       "  </thead>\n",
       "  <tbody>\n",
       "    <tr>\n",
       "      <th>count</th>\n",
       "      <td>997.00000</td>\n",
       "      <td>997.000000</td>\n",
       "      <td>997.000000</td>\n",
       "      <td>9.970000e+02</td>\n",
       "      <td>997.000000</td>\n",
       "      <td>997.000000</td>\n",
       "    </tr>\n",
       "    <tr>\n",
       "      <th>mean</th>\n",
       "      <td>55.66326</td>\n",
       "      <td>5.509529</td>\n",
       "      <td>307.498215</td>\n",
       "      <td>4.761905e+00</td>\n",
       "      <td>15.374911</td>\n",
       "      <td>6.971214</td>\n",
       "    </tr>\n",
       "    <tr>\n",
       "      <th>std</th>\n",
       "      <td>26.52599</td>\n",
       "      <td>2.925988</td>\n",
       "      <td>234.385280</td>\n",
       "      <td>6.131507e-14</td>\n",
       "      <td>11.719264</td>\n",
       "      <td>1.719456</td>\n",
       "    </tr>\n",
       "    <tr>\n",
       "      <th>min</th>\n",
       "      <td>10.08000</td>\n",
       "      <td>1.000000</td>\n",
       "      <td>10.170000</td>\n",
       "      <td>4.761905e+00</td>\n",
       "      <td>0.508500</td>\n",
       "      <td>4.000000</td>\n",
       "    </tr>\n",
       "    <tr>\n",
       "      <th>25%</th>\n",
       "      <td>32.80000</td>\n",
       "      <td>3.000000</td>\n",
       "      <td>116.690000</td>\n",
       "      <td>4.761905e+00</td>\n",
       "      <td>5.834500</td>\n",
       "      <td>5.500000</td>\n",
       "    </tr>\n",
       "    <tr>\n",
       "      <th>50%</th>\n",
       "      <td>55.39000</td>\n",
       "      <td>5.000000</td>\n",
       "      <td>241.600000</td>\n",
       "      <td>4.761905e+00</td>\n",
       "      <td>12.080000</td>\n",
       "      <td>7.000000</td>\n",
       "    </tr>\n",
       "    <tr>\n",
       "      <th>75%</th>\n",
       "      <td>77.95000</td>\n",
       "      <td>8.000000</td>\n",
       "      <td>448.600000</td>\n",
       "      <td>4.761905e+00</td>\n",
       "      <td>22.430000</td>\n",
       "      <td>8.500000</td>\n",
       "    </tr>\n",
       "    <tr>\n",
       "      <th>max</th>\n",
       "      <td>99.96000</td>\n",
       "      <td>10.000000</td>\n",
       "      <td>993.000000</td>\n",
       "      <td>4.761905e+00</td>\n",
       "      <td>49.650000</td>\n",
       "      <td>10.000000</td>\n",
       "    </tr>\n",
       "  </tbody>\n",
       "</table>\n",
       "</div>"
      ],
      "text/plain": [
       "       Unit price    Quantity        cogs  gross margin percentage  \\\n",
       "count   997.00000  997.000000  997.000000             9.970000e+02   \n",
       "mean     55.66326    5.509529  307.498215             4.761905e+00   \n",
       "std      26.52599    2.925988  234.385280             6.131507e-14   \n",
       "min      10.08000    1.000000   10.170000             4.761905e+00   \n",
       "25%      32.80000    3.000000  116.690000             4.761905e+00   \n",
       "50%      55.39000    5.000000  241.600000             4.761905e+00   \n",
       "75%      77.95000    8.000000  448.600000             4.761905e+00   \n",
       "max      99.96000   10.000000  993.000000             4.761905e+00   \n",
       "\n",
       "       gross income      Rating  \n",
       "count    997.000000  997.000000  \n",
       "mean      15.374911    6.971214  \n",
       "std       11.719264    1.719456  \n",
       "min        0.508500    4.000000  \n",
       "25%        5.834500    5.500000  \n",
       "50%       12.080000    7.000000  \n",
       "75%       22.430000    8.500000  \n",
       "max       49.650000   10.000000  "
      ]
     },
     "execution_count": 58,
     "metadata": {},
     "output_type": "execute_result"
    }
   ],
   "source": [
    "df.describe()"
   ]
  },
  {
   "cell_type": "markdown",
   "id": "aef8fcf4-4a63-4c36-bd2b-381477a3b54b",
   "metadata": {},
   "source": [
    "##### cat is for category while num is numerical"
   ]
  },
  {
   "cell_type": "code",
   "execution_count": 60,
   "id": "a7255e5b-ed83-4738-b7db-cb2b2d606cbe",
   "metadata": {},
   "outputs": [],
   "source": [
    "cat=[]\n",
    "num=[]\n",
    "for column in df.columns:\n",
    "    if df[column].nunique() > 10:\n",
    "        num.append(column)\n",
    "    else:\n",
    "        cat.append(column)"
   ]
  },
  {
   "cell_type": "code",
   "execution_count": 61,
   "id": "cdf1fa95-310e-40af-8bf5-4d8db5d4d699",
   "metadata": {},
   "outputs": [
    {
     "data": {
      "text/plain": [
       "['Branch',\n",
       " 'City',\n",
       " 'Customer type',\n",
       " 'Product line',\n",
       " 'Quantity',\n",
       " 'Review Quantity',\n",
       " 'Payment',\n",
       " 'gross margin percentage']"
      ]
     },
     "execution_count": 61,
     "metadata": {},
     "output_type": "execute_result"
    }
   ],
   "source": [
    "cat"
   ]
  },
  {
   "cell_type": "code",
   "execution_count": 62,
   "id": "48a28e5f-e131-4c97-b1d2-ec6023f1ed2b",
   "metadata": {},
   "outputs": [
    {
     "data": {
      "text/plain": [
       "['Invoice ID',\n",
       " 'Unit price',\n",
       " 'Tax 5%',\n",
       " ' Total ',\n",
       " 'Date',\n",
       " 'Time',\n",
       " 'cogs',\n",
       " 'gross income',\n",
       " 'Rating']"
      ]
     },
     "execution_count": 62,
     "metadata": {},
     "output_type": "execute_result"
    }
   ],
   "source": [
    "num"
   ]
  },
  {
   "cell_type": "markdown",
   "id": "5c3589a3-6d25-424c-acc5-6354b6e9f8ff",
   "metadata": {},
   "source": [
    "### Univariate Analysis\n",
    "#### 1. Find Aggregate Sales Among Branches. (Categorical Column)"
   ]
  },
  {
   "cell_type": "markdown",
   "id": "84eb6649-e88d-42b1-9ad7-3b255b068a98",
   "metadata": {},
   "source": [
    "##### This code is for creating a bar plot that visualizes the frequency of each unique value in the \"Branch\" column of the DataFrame"
   ]
  },
  {
   "cell_type": "code",
   "execution_count": 67,
   "id": "1ad26389-7101-41e0-b9b8-20b2e3d994e2",
   "metadata": {},
   "outputs": [
    {
     "data": {
      "text/plain": [
       "<Axes: xlabel='Branch'>"
      ]
     },
     "execution_count": 67,
     "metadata": {},
     "output_type": "execute_result"
    },
    {
     "data": {
      "image/png": "[encoded data removed]",
      "text/plain": [
       "<Figure size 800x600 with 1 Axes>"
      ]
     },
     "metadata": {},
     "output_type": "display_data"
    }
   ],
   "source": [
    "branch_counts=df['Branch'].value_counts()\n",
    "plt.figure(figsize=(8,6))\n",
    "sns.barplot(x=branch_counts.index,y=branch_counts.values)"
   ]
  },
  {
   "cell_type": "markdown",
   "id": "f9e9a89c-418e-4df2-8e5b-772672a7531f",
   "metadata": {},
   "source": [
    "##### this is used to create a pie chart that displays the distribution of different values in the \"Branch\" column of the DataFrame (group A and C has the highest distribution percentage 33.90% then B with the lowest 33.20%"
   ]
  },
  {
   "cell_type": "code",
   "execution_count": 68,
   "id": "bba97b85-3378-4c5b-b62c-969dd3a02c4c",
   "metadata": {},
   "outputs": [
    {
     "data": {
      "text/plain": [
       "<Axes: ylabel='count'>"
      ]
     },
     "execution_count": 68,
     "metadata": {},
     "output_type": "execute_result"
    },
    {
     "data": {
      "image/png": "[encoded data removed]",
      "text/plain": [
       "<Figure size 640x480 with 1 Axes>"
      ]
     },
     "metadata": {},
     "output_type": "display_data"
    }
   ],
   "source": [
    "df['Branch'].value_counts().plot(kind=\"pie\",autopct=\"%1.2f%%\")"
   ]
  },
  {
   "cell_type": "markdown",
   "id": "4646e1b3-f369-4bd9-b35b-1fb46b855d00",
   "metadata": {},
   "source": [
    "##### the code is used to create a bar plot that shows the frequency of each unique value in the \"Branch\" column of the DataFrame "
   ]
  },
  {
   "cell_type": "code",
   "execution_count": 69,
   "id": "80da34c7-a5d9-47d1-8fc6-7377bad4a8c3",
   "metadata": {},
   "outputs": [
    {
     "data": {
      "text/plain": [
       "<Axes: xlabel='Branch'>"
      ]
     },
     "execution_count": 69,
     "metadata": {},
     "output_type": "execute_result"
    },
    {
     "data": {
      "image/png": "[encoded data removed]",
      "text/plain": [
       "<Figure size 640x480 with 1 Axes>"
      ]
     },
     "metadata": {},
     "output_type": "display_data"
    }
   ],
   "source": [
    "df['Branch'].value_counts().plot(kind=\"bar\")"
   ]
  },
  {
   "cell_type": "markdown",
   "id": "3ece49cb-3854-4e04-a590-62d9829effd8",
   "metadata": {},
   "source": [
    "### 2.Find The Most Popular Payment Method Used By Customers (Categorical Column)"
   ]
  },
  {
   "cell_type": "markdown",
   "id": "d634afc6-52fb-4c3f-9b69-d11bea57a684",
   "metadata": {},
   "source": [
    "##### the code is used to visualise payment method by using  stacked column chart ( cash and e wallet is the most preffered payment method 350, and the least is card 300)"
   ]
  },
  {
   "cell_type": "code",
   "execution_count": 70,
   "id": "2027a9f4-4a56-42fe-8a54-d82d9f91b59b",
   "metadata": {},
   "outputs": [
    {
     "data": {
      "text/plain": [
       "<Axes: xlabel='Payment'>"
      ]
     },
     "execution_count": 70,
     "metadata": {},
     "output_type": "execute_result"
    },
    {
     "data": {
      "image/png": "[encoded data removed]",
      "text/plain": [
       "<Figure size 640x480 with 1 Axes>"
      ]
     },
     "metadata": {},
     "output_type": "display_data"
    }
   ],
   "source": [
    "df['Payment'].value_counts().plot(kind=\"bar\")"
   ]
  },
  {
   "cell_type": "markdown",
   "id": "791f7700-c88e-4267-b0c8-a08494eda7cf",
   "metadata": {},
   "source": [
    "### 3. Find The Distribution of Customer Ratings. (Numerical Column)\n"
   ]
  },
  {
   "cell_type": "markdown",
   "id": "7863ab10-8e07-42ea-a7d4-60f4485ff077",
   "metadata": {},
   "source": [
    "##### is used to create a distribution plot of the 'Rating' column from the DataFrame "
   ]
  },
  {
   "cell_type": "code",
   "execution_count": 72,
   "id": "153e60c0-274f-4b35-a1e5-36beeb6a6bb4",
   "metadata": {},
   "outputs": [
    {
     "name": "stderr",
     "output_type": "stream",
     "text": [
      "C:\\Users\\HP ENVY\\AppData\\Local\\Temp\\ipykernel_14752\\2160066058.py:1: UserWarning: \n",
      "\n",
      "`distplot` is a deprecated function and will be removed in seaborn v0.14.0.\n",
      "\n",
      "Please adapt your code to use either `displot` (a figure-level function with\n",
      "similar flexibility) or `histplot` (an axes-level function for histograms).\n",
      "\n",
      "For a guide to updating your code to use the new functions, please see\n",
      "https://gist.github.com/mwaskom/de44147ed2974457ad6372750bbe5751\n",
      "\n",
      "  sns.distplot(df['Rating'])\n",
      "C:\\Users\\HP ENVY\\anaconda3\\Lib\\site-packages\\seaborn\\_oldcore.py:1119: FutureWarning: use_inf_as_na option is deprecated and will be removed in a future version. Convert inf values to NaN before operating instead.\n",
      "  with pd.option_context('mode.use_inf_as_na', True):\n"
     ]
    },
    {
     "data": {
      "text/plain": [
       "<Axes: xlabel='Rating', ylabel='Density'>"
      ]
     },
     "execution_count": 72,
     "metadata": {},
     "output_type": "execute_result"
    },
    {
     "data": {
      "image/png": "[encoded data removed]",
      "text/plain": [
       "<Figure size 640x480 with 1 Axes>"
      ]
     },
     "metadata": {},
     "output_type": "display_data"
    }
   ],
   "source": [
    "sns.distplot(df['Rating'])"
   ]
  },
  {
   "cell_type": "markdown",
   "id": "749599ae-72a5-4fe7-a3bb-b1e1a8523211",
   "metadata": {},
   "source": [
    "##### the code is used to calculate the skewness of the values in the 'Rating' column of the DataFrame"
   ]
  },
  {
   "cell_type": "code",
   "execution_count": 73,
   "id": "49a4fb98-e3d5-455f-8387-cc8f1c5759a2",
   "metadata": {},
   "outputs": [
    {
     "data": {
      "text/plain": [
       "0.009945254371668263"
      ]
     },
     "execution_count": 73,
     "metadata": {},
     "output_type": "execute_result"
    }
   ],
   "source": [
    "df['Rating'].skew()"
   ]
  },
  {
   "cell_type": "markdown",
   "id": "b302824c-fb92-4a24-8093-d67e98948142",
   "metadata": {},
   "source": [
    "### 4. Find the Distribution of Cost of Goods Sold (Numerical Column)"
   ]
  },
  {
   "cell_type": "markdown",
   "id": "157a2231-6872-431e-b274-0f370e58266a",
   "metadata": {},
   "source": [
    "#####  the code is used to create a distribution plot of the 'cogs' (cost of goods sold) column from the DataFrame"
   ]
  },
  {
   "cell_type": "code",
   "execution_count": 75,
   "id": "2d708b9f-f3b8-4b98-8eda-f3daf1f4b9cd",
   "metadata": {},
   "outputs": [
    {
     "name": "stderr",
     "output_type": "stream",
     "text": [
      "C:\\Users\\HP ENVY\\AppData\\Local\\Temp\\ipykernel_14752\\1900446744.py:1: UserWarning: \n",
      "\n",
      "`distplot` is a deprecated function and will be removed in seaborn v0.14.0.\n",
      "\n",
      "Please adapt your code to use either `displot` (a figure-level function with\n",
      "similar flexibility) or `histplot` (an axes-level function for histograms).\n",
      "\n",
      "For a guide to updating your code to use the new functions, please see\n",
      "https://gist.github.com/mwaskom/de44147ed2974457ad6372750bbe5751\n",
      "\n",
      "  sns.distplot(df['cogs'])\n",
      "C:\\Users\\HP ENVY\\anaconda3\\Lib\\site-packages\\seaborn\\_oldcore.py:1119: FutureWarning: use_inf_as_na option is deprecated and will be removed in a future version. Convert inf values to NaN before operating instead.\n",
      "  with pd.option_context('mode.use_inf_as_na', True):\n"
     ]
    },
    {
     "data": {
      "text/plain": [
       "<Axes: xlabel='cogs', ylabel='Density'>"
      ]
     },
     "execution_count": 75,
     "metadata": {},
     "output_type": "execute_result"
    },
    {
     "data": {
      "image/png": "[encoded data removed]",
      "text/plain": [
       "<Figure size 640x480 with 1 Axes>"
      ]
     },
     "metadata": {},
     "output_type": "display_data"
    }
   ],
   "source": [
    "sns.distplot(df['cogs'])\n"
   ]
  },
  {
   "cell_type": "markdown",
   "id": "6204cfbd-e271-46d3-8ccd-59340ac07047",
   "metadata": {},
   "source": [
    "##### this code is used to  calculates the skewness of the 'cogs' column in the DataFrame"
   ]
  },
  {
   "cell_type": "code",
   "execution_count": 77,
   "id": "932b9d86-ca0a-4605-844d-9cfd6498c882",
   "metadata": {},
   "outputs": [
    {
     "data": {
      "text/plain": [
       "0.8934663850216618"
      ]
     },
     "execution_count": 77,
     "metadata": {},
     "output_type": "execute_result"
    }
   ],
   "source": [
    "df['cogs'].skew()"
   ]
  },
  {
   "cell_type": "markdown",
   "id": "90ae2417-3d5d-456e-bf3d-a3641db13b6e",
   "metadata": {},
   "source": [
    " ##### this code is used to create a boxplot of the 'cogs' column from the DataFrame "
   ]
  },
  {
   "cell_type": "code",
   "execution_count": 82,
   "id": "74f26027-1cf3-46b9-8a37-1bde3170b847",
   "metadata": {},
   "outputs": [
    {
     "data": {
      "text/plain": [
       "<Axes: xlabel='cogs'>"
      ]
     },
     "execution_count": 82,
     "metadata": {},
     "output_type": "execute_result"
    },
    {
     "data": {
      "image/png": "[encoded data removed]",
      "text/plain": [
       "<Figure size 640x480 with 1 Axes>"
      ]
     },
     "metadata": {},
     "output_type": "display_data"
    }
   ],
   "source": [
    "sns.boxplot(x=df['cogs'])"
   ]
  },
  {
   "cell_type": "markdown",
   "id": "58d538ce-7755-43e4-8412-92d1c6e39fb0",
   "metadata": {},
   "source": [
    "### 1. Does The Cost of Goods Sold Affect The Ratings That The Customers Provide? (Numerical - Numerical)"
   ]
  },
  {
   "cell_type": "code",
   "execution_count": 83,
   "id": "c5a4fd9e-b236-48b8-90b9-f5a53f922428",
   "metadata": {},
   "outputs": [
    {
     "data": {
      "text/plain": [
       "['Branch',\n",
       " 'City',\n",
       " 'Customer type',\n",
       " 'Product line',\n",
       " 'Quantity',\n",
       " 'Review Quantity',\n",
       " 'Payment',\n",
       " 'gross margin percentage']"
      ]
     },
     "execution_count": 83,
     "metadata": {},
     "output_type": "execute_result"
    }
   ],
   "source": [
    "cat"
   ]
  },
  {
   "cell_type": "code",
   "execution_count": 84,
   "id": "fc0462a8-dc14-4fed-833b-b26caf0f0bcd",
   "metadata": {},
   "outputs": [
    {
     "data": {
      "text/plain": [
       "['Invoice ID',\n",
       " 'Unit price',\n",
       " 'Tax 5%',\n",
       " ' Total ',\n",
       " 'Date',\n",
       " 'Time',\n",
       " 'cogs',\n",
       " 'gross income',\n",
       " 'Rating']"
      ]
     },
     "execution_count": 84,
     "metadata": {},
     "output_type": "execute_result"
    }
   ],
   "source": [
    "num"
   ]
  },
  {
   "cell_type": "markdown",
   "id": "3a5309f1-9861-4526-85f8-0db7821acc1d",
   "metadata": {},
   "source": [
    "#####  is used to create a scatter plot using the seaborn library."
   ]
  },
  {
   "cell_type": "code",
   "execution_count": 85,
   "id": "786c0e9a-9ca9-49f2-bf93-89e1b70762dc",
   "metadata": {},
   "outputs": [
    {
     "data": {
      "text/plain": [
       "<Axes: xlabel='cogs', ylabel='Rating'>"
      ]
     },
     "execution_count": 85,
     "metadata": {},
     "output_type": "execute_result"
    },
    {
     "data": {
      "image/png": "[encoded data removed]",
      "text/plain": [
       "<Figure size 640x480 with 1 Axes>"
      ]
     },
     "metadata": {},
     "output_type": "display_data"
    }
   ],
   "source": [
    "sns.scatterplot(x=df['cogs'],y=df['Rating'])"
   ]
  },
  {
   "cell_type": "markdown",
   "id": "841a2414-edc6-4089-a72f-6f16897b116a",
   "metadata": {},
   "source": [
    "### 2. Does Gross Income Affect The Ratings That The Customers Provide? (Numerical - Numerical)"
   ]
  },
  {
   "cell_type": "code",
   "execution_count": 87,
   "id": "02e09458-b63e-4968-9be9-f895d04a8fb4",
   "metadata": {},
   "outputs": [
    {
     "data": {
      "text/plain": [
       "<Axes: xlabel='gross income', ylabel='Rating'>"
      ]
     },
     "execution_count": 87,
     "metadata": {},
     "output_type": "execute_result"
    },
    {
     "data": {
      "image/png": "[encoded data removed]",
      "text/plain": [
       "<Figure size 640x480 with 1 Axes>"
      ]
     },
     "metadata": {},
     "output_type": "display_data"
    }
   ],
   "source": [
    "sns.scatterplot(x=df['gross income'],y=df['Rating'])"
   ]
  },
  {
   "cell_type": "markdown",
   "id": "0f32396f-2bbc-48c5-b25d-5ee6ffc7c650",
   "metadata": {},
   "source": [
    "### 3. Find The Most Profitable Branch As Per Gross Income. (Numerical - Categorical)"
   ]
  },
  {
   "cell_type": "code",
   "execution_count": 88,
   "id": "543d99e5-8011-4baa-a102-0a5577c55227",
   "metadata": {},
   "outputs": [
    {
     "data": {
      "text/plain": [
       "['Branch',\n",
       " 'City',\n",
       " 'Customer type',\n",
       " 'Product line',\n",
       " 'Quantity',\n",
       " 'Review Quantity',\n",
       " 'Payment',\n",
       " 'gross margin percentage']"
      ]
     },
     "execution_count": 88,
     "metadata": {},
     "output_type": "execute_result"
    }
   ],
   "source": [
    "cat"
   ]
  },
  {
   "cell_type": "code",
   "execution_count": 89,
   "id": "a562aa95-3c32-4fca-949e-4ff151f7288a",
   "metadata": {},
   "outputs": [
    {
     "data": {
      "text/plain": [
       "['Invoice ID',\n",
       " 'Unit price',\n",
       " 'Tax 5%',\n",
       " ' Total ',\n",
       " 'Date',\n",
       " 'Time',\n",
       " 'cogs',\n",
       " 'gross income',\n",
       " 'Rating']"
      ]
     },
     "execution_count": 89,
     "metadata": {},
     "output_type": "execute_result"
    }
   ],
   "source": [
    "num"
   ]
  },
  {
   "cell_type": "markdown",
   "id": "b3fbc187-b799-443f-991a-9855976a8d9e",
   "metadata": {},
   "source": [
    "##### this code was used to create a barplot using seaborn libary( branch C has the highest gross income 16.0 and branch be with the lowest 15.0"
   ]
  },
  {
   "cell_type": "code",
   "execution_count": 92,
   "id": "dd291e9d-6781-4ef5-9df1-fb48044779df",
   "metadata": {},
   "outputs": [
    {
     "data": {
      "text/plain": [
       "<Axes: xlabel='Branch', ylabel='gross income'>"
      ]
     },
     "execution_count": 92,
     "metadata": {},
     "output_type": "execute_result"
    },
    {
     "data": {
      "image/png": "[encoded data removed]",
      "text/plain": [
       "<Figure size 640x480 with 1 Axes>"
      ]
     },
     "metadata": {},
     "output_type": "display_data"
    }
   ],
   "source": [
    "sns.barplot(x=df['Branch'],y=df['gross income'])"
   ]
  },
  {
   "cell_type": "markdown",
   "id": "e5e7697f-65cb-4aab-992b-cdc854813a8e",
   "metadata": {},
   "source": [
    "##### this code is used to create a grouped bar plot using seaborn libary( this chart is for city with the highest gross income naypyitaw has the highest gross income 16.0 and yangon with the least gross income 15.0)"
   ]
  },
  {
   "cell_type": "code",
   "execution_count": 94,
   "id": "fde10e0b-0145-40ad-8b44-023b947e5050",
   "metadata": {},
   "outputs": [
    {
     "data": {
      "text/plain": [
       "<Axes: xlabel='Branch', ylabel='gross income'>"
      ]
     },
     "execution_count": 94,
     "metadata": {},
     "output_type": "execute_result"
    },
    {
     "data": {
      "image/png": "[encoded data removed]",
      "text/plain": [
       "<Figure size 640x480 with 1 Axes>"
      ]
     },
     "metadata": {},
     "output_type": "display_data"
    }
   ],
   "source": [
    "sns.barplot(x=df['Branch'],y=df['gross income'],hue=df['City'])"
   ]
  },
  {
   "cell_type": "markdown",
   "id": "ec4c7cce-275c-40d1-9320-cd53d977f3aa",
   "metadata": {},
   "source": [
    "### 4. Is There Any Relationship Between Gender And Gross Income? (Numerical - Categorical)"
   ]
  },
  {
   "cell_type": "markdown",
   "id": "8dd70783-62d1-4584-b8f6-697b102199cd",
   "metadata": {},
   "source": [
    "##### this code is used to create a box plot under seaborn libary for gross income "
   ]
  },
  {
   "cell_type": "code",
   "execution_count": 98,
   "id": "880495f9-798c-410f-9b6b-0480b9b50b6a",
   "metadata": {},
   "outputs": [
    {
     "data": {
      "text/plain": [
       "<Axes: xlabel='gross income'>"
      ]
     },
     "execution_count": 98,
     "metadata": {},
     "output_type": "execute_result"
    },
    {
     "data": {
      "image/png": "[encoded data removed]",
      "text/plain": [
       "<Figure size 640x480 with 1 Axes>"
      ]
     },
     "metadata": {},
     "output_type": "display_data"
    }
   ],
   "source": [
    "sns.boxplot(x=df['gross income'])"
   ]
  },
  {
   "cell_type": "markdown",
   "id": "5ea7d0b9-c272-49a8-964f-2938657a28f1",
   "metadata": {},
   "source": [
    "#####  the code is used to create a box plot to visualize the distribution of the 'gross income' column across different categories of the 'Customer type' column using the seaborn library."
   ]
  },
  {
   "cell_type": "code",
   "execution_count": 100,
   "id": "ddef7196-a81a-4d26-91d5-9974bb23abce",
   "metadata": {},
   "outputs": [
    {
     "data": {
      "text/plain": [
       "<Axes: xlabel='gross income', ylabel='Customer type'>"
      ]
     },
     "execution_count": 100,
     "metadata": {},
     "output_type": "execute_result"
    },
    {
     "data": {
      "image/png": "[encoded data removed]",
      "text/plain": [
       "<Figure size 640x480 with 1 Axes>"
      ]
     },
     "metadata": {},
     "output_type": "display_data"
    }
   ],
   "source": [
    "sns.boxplot(x=df['gross income'],y=df['Customer type'])"
   ]
  },
  {
   "cell_type": "markdown",
   "id": "d73a46da-319b-4e2a-bbf1-c9678e003944",
   "metadata": {},
   "source": [
    "### 5. Find The Product Line That Generates The Most Income. (Numerical - Categorical)"
   ]
  },
  {
   "cell_type": "markdown",
   "id": "450f32cd-df86-4de8-af16-9e8d846b6738",
   "metadata": {},
   "source": [
    "##### the code is for retrieving column label of a dataframe"
   ]
  },
  {
   "cell_type": "code",
   "execution_count": 102,
   "id": "3e43ddad-104b-4ca6-bb0f-ad7803a58bd8",
   "metadata": {},
   "outputs": [
    {
     "data": {
      "text/plain": [
       "Index(['Invoice ID', 'Branch', 'City', 'Customer type', 'Product line',\n",
       "       'Unit price', 'Quantity', 'Review Quantity', 'Tax 5%', ' Total ',\n",
       "       'Date', 'Time', 'Payment', 'cogs', 'gross margin percentage',\n",
       "       'gross income', 'Rating'],\n",
       "      dtype='object')"
      ]
     },
     "execution_count": 102,
     "metadata": {},
     "output_type": "execute_result"
    }
   ],
   "source": [
    "df.columns"
   ]
  },
  {
   "cell_type": "markdown",
   "id": "8fbfc777-9b50-4e49-b094-db7de99abfe5",
   "metadata": {},
   "source": [
    "##### the code is used to create and display a bar plot for gross income by each product line using seaborn (sns) and matplotlib (plt)."
   ]
  },
  {
   "cell_type": "code",
   "execution_count": 104,
   "id": "f1feeb01-6707-42a3-b14a-5db4a38ce5d4",
   "metadata": {},
   "outputs": [
    {
     "data": {
      "image/png": "[encoded data removed]",
      "text/plain": [
       "<Figure size 640x480 with 1 Axes>"
      ]
     },
     "metadata": {},
     "output_type": "display_data"
    }
   ],
   "source": [
    "sns.barplot(x=df['Product line'],y=df['gross income'])\n",
    "plt.xticks(rotation=80)\n",
    "plt.show()"
   ]
  },
  {
   "cell_type": "markdown",
   "id": "830285aa-1a8d-40b4-b8a3-8df98c70a460",
   "metadata": {},
   "source": [
    "### 6. Find The Highest Unit Price In The Product Line. (Numerical - Categorical)\n"
   ]
  },
  {
   "cell_type": "markdown",
   "id": "df55f70f-0846-4f32-8184-cc84acb64169",
   "metadata": {},
   "source": [
    "##### the code is used to create and display a bar plot for unit price by each product line using seaborn (sns) and matplotlib (plt)."
   ]
  },
  {
   "cell_type": "code",
   "execution_count": 105,
   "id": "4d2bda24-fad1-4c75-93c6-758941ef5ffe",
   "metadata": {},
   "outputs": [
    {
     "data": {
      "image/png": "[encoded data removed]",
      "text/plain": [
       "<Figure size 640x480 with 1 Axes>"
      ]
     },
     "metadata": {},
     "output_type": "display_data"
    }
   ],
   "source": [
    "sns.barplot(x=df['Product line'],y=df['Unit price'])\n",
    "plt.xticks(rotation=80)\n",
    "plt.show()"
   ]
  },
  {
   "cell_type": "markdown",
   "id": "ef7ae71c-b497-4919-a4c5-823bec29eedd",
   "metadata": {},
   "source": [
    "### 7. Find Different Payment Methods Used By Customers Citywise.(Categorical -Categorical)"
   ]
  },
  {
   "cell_type": "markdown",
   "id": "de0e0fb1-4136-4441-a57e-16c6491025de",
   "metadata": {},
   "source": [
    "##### the code is used to create a cross-tabulation (also known as a contingency table) between two categorical variables: 'City' and 'Payment', from the DataFrame"
   ]
  },
  {
   "cell_type": "code",
   "execution_count": 109,
   "id": "e7f196d2-767c-44cf-b6fb-1f884ac8f58f",
   "metadata": {},
   "outputs": [
    {
     "data": {
      "text/html": [
       "<div>\n",
       "<style scoped>\n",
       "    .dataframe tbody tr th:only-of-type {\n",
       "        vertical-align: middle;\n",
       "    }\n",
       "\n",
       "    .dataframe tbody tr th {\n",
       "        vertical-align: top;\n",
       "    }\n",
       "\n",
       "    .dataframe thead th {\n",
       "        text-align: right;\n",
       "    }\n",
       "</style>\n",
       "<table border=\"1\" class=\"dataframe\">\n",
       "  <thead>\n",
       "    <tr style=\"text-align: right;\">\n",
       "      <th>Payment</th>\n",
       "      <th>Cash</th>\n",
       "      <th>Credit card</th>\n",
       "      <th>Ewallet</th>\n",
       "    </tr>\n",
       "    <tr>\n",
       "      <th>City</th>\n",
       "      <th></th>\n",
       "      <th></th>\n",
       "      <th></th>\n",
       "    </tr>\n",
       "  </thead>\n",
       "  <tbody>\n",
       "    <tr>\n",
       "      <th>Mandalay</th>\n",
       "      <td>110</td>\n",
       "      <td>108</td>\n",
       "      <td>113</td>\n",
       "    </tr>\n",
       "    <tr>\n",
       "      <th>Naypyitaw</th>\n",
       "      <td>124</td>\n",
       "      <td>98</td>\n",
       "      <td>106</td>\n",
       "    </tr>\n",
       "    <tr>\n",
       "      <th>Yangon</th>\n",
       "      <td>110</td>\n",
       "      <td>103</td>\n",
       "      <td>125</td>\n",
       "    </tr>\n",
       "  </tbody>\n",
       "</table>\n",
       "</div>"
      ],
      "text/plain": [
       "Payment    Cash  Credit card  Ewallet\n",
       "City                                 \n",
       "Mandalay    110          108      113\n",
       "Naypyitaw   124           98      106\n",
       "Yangon      110          103      125"
      ]
     },
     "execution_count": 109,
     "metadata": {},
     "output_type": "execute_result"
    }
   ],
   "source": [
    "pd.crosstab(df['City'],df['Payment'])"
   ]
  },
  {
   "cell_type": "markdown",
   "id": "153d7de9-e862-4993-9801-6fe6ef1b0820",
   "metadata": {},
   "source": [
    "##### the code  is used to create a heatmap visualization of the cross-tabulation between the 'City' column and the 'Payment' column from the DataFrame"
   ]
  },
  {
   "cell_type": "code",
   "execution_count": 110,
   "id": "44d9735e-2b0d-4618-8086-a6a706f7b590",
   "metadata": {},
   "outputs": [
    {
     "data": {
      "text/plain": [
       "<Axes: xlabel='Payment', ylabel='City'>"
      ]
     },
     "execution_count": 110,
     "metadata": {},
     "output_type": "execute_result"
    },
    {
     "data": {
      "image/png": "[encoded data removed]",
      "text/plain": [
       "<Figure size 640x480 with 2 Axes>"
      ]
     },
     "metadata": {},
     "output_type": "display_data"
    }
   ],
   "source": [
    "sns.heatmap(pd.crosstab(df['City'],df['Payment']))"
   ]
  },
  {
   "cell_type": "markdown",
   "id": "cf3a0b5a-903f-4f3a-a706-77fa8a79b370",
   "metadata": {},
   "source": [
    "### 8. Which Product Line Is Purchased In The Highest Quantity?"
   ]
  },
  {
   "cell_type": "markdown",
   "id": "c9dbbecb-31ed-4593-975f-a5f6f95ec438",
   "metadata": {},
   "source": [
    "##### the code is used to create a bar plot showing the total quantity sold for each product line in the DataFrame"
   ]
  },
  {
   "cell_type": "code",
   "execution_count": 111,
   "id": "493ad15e-8ebb-4336-8d34-e73733b4d0fb",
   "metadata": {},
   "outputs": [
    {
     "data": {
      "text/plain": [
       "<Axes: xlabel='Product line'>"
      ]
     },
     "execution_count": 111,
     "metadata": {},
     "output_type": "execute_result"
    },
    {
     "data": {
      "image/png": "[encoded data removed]",
      "text/plain": [
       "<Figure size 640x480 with 1 Axes>"
      ]
     },
     "metadata": {},
     "output_type": "display_data"
    }
   ],
   "source": [
    "(df.groupby('Product line').sum()['Quantity']).plot(kind='bar')"
   ]
  },
  {
   "cell_type": "code",
   "execution_count": null,
   "id": "d3ae52fb-aeb9-4b72-a762-f9418ff3b8e5",
   "metadata": {},
   "outputs": [],
   "source": []
  }
 ],
 "metadata": {
  "kernelspec": {
   "display_name": "Python 3 (ipykernel)",
   "language": "python",
   "name": "python3"
  },
  "language_info": {
   "codemirror_mode": {
    "name": "ipython",
    "version": 3
   },
   "file_extension": ".py",
   "mimetype": "text/x-python",
   "name": "python",
   "nbconvert_exporter": "python",
   "pygments_lexer": "ipython3",
   "version": "3.11.7"
  }
 },
 "nbformat": 4,
 "nbformat_minor": 5
}
